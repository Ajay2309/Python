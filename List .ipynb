{
 "cells": [
  {
   "cell_type": "code",
   "execution_count": 1,
   "metadata": {},
   "outputs": [
    {
     "name": "stdout",
     "output_type": "stream",
     "text": [
      "['C', 'o', 'm', 'p', 'u', 't', 'e', 'r']\n"
     ]
    }
   ],
   "source": [
    "# Creating a list\n",
    "\n",
    "l1=list(\"Computer\")\n",
    "print(l1)"
   ]
  },
  {
   "cell_type": "code",
   "execution_count": 5,
   "metadata": {},
   "outputs": [
    {
     "name": "stdout",
     "output_type": "stream",
     "text": [
      "['a', 'j', 'a', 'y']\n"
     ]
    }
   ],
   "source": [
    "# creating a list\n",
    "l1=['a','j','a','y']\n",
    "print(l1)"
   ]
  },
  {
   "cell_type": "code",
   "execution_count": 3,
   "metadata": {},
   "outputs": [
    {
     "name": "stdout",
     "output_type": "stream",
     "text": [
      "[]\n",
      "[]\n"
     ]
    }
   ],
   "source": [
    "# Creating a empty list\n",
    "\n",
    "l1=list()\n",
    "l2=[]\n",
    "print(l1)\n",
    "print(l2)"
   ]
  },
  {
   "cell_type": "code",
   "execution_count": 2,
   "metadata": {},
   "outputs": [
    {
     "name": "stdout",
     "output_type": "stream",
     "text": [
      "Enter the value: Ajay\n",
      "['A', 'j', 'a', 'y']\n"
     ]
    }
   ],
   "source": [
    "# Creating a list through user input\n",
    "\n",
    "l2=list(input(\"Enter the value: \"))\n",
    "print(l2)"
   ]
  },
  {
   "cell_type": "code",
   "execution_count": 6,
   "metadata": {},
   "outputs": [
    {
     "name": "stdout",
     "output_type": "stream",
     "text": [
      "[10, 20, 30, 40, 50]\n"
     ]
    }
   ],
   "source": [
    "# Creqating list from existing list\n",
    "\n",
    "list1=[10,20,30,40,50]\n",
    "\n",
    "# coping list\n",
    "l2=list1\n",
    "print(l2)"
   ]
  },
  {
   "cell_type": "code",
   "execution_count": 7,
   "metadata": {},
   "outputs": [
    {
     "name": "stdout",
     "output_type": "stream",
     "text": [
      "h\n",
      "e\n",
      "l\n",
      "l\n",
      "o\n"
     ]
    }
   ],
   "source": [
    "# Traversing a list\n",
    "\n",
    "list4=['h','e','l','l','o']\n",
    "for i in list4:\n",
    "    print(i)"
   ]
  },
  {
   "cell_type": "code",
   "execution_count": 10,
   "metadata": {},
   "outputs": [
    {
     "name": "stdout",
     "output_type": "stream",
     "text": [
      "Enter the value: Ajay\n",
      "A\n",
      "j\n",
      "a\n",
      "y\n",
      "4\n"
     ]
    }
   ],
   "source": [
    "# Traversing a list\n",
    "\n",
    "l2=list(input(\"Enter the value: \"))\n",
    "n=len(l2)\n",
    "for i in range(n):\n",
    "    print(l2[i])\n",
    "print(n)"
   ]
  },
  {
   "cell_type": "code",
   "execution_count": 11,
   "metadata": {},
   "outputs": [
    {
     "name": "stdout",
     "output_type": "stream",
     "text": [
      "['red', 'green', 10, 20, 30]\n",
      "[10, 20, 30, 40, 50, 'blue']\n"
     ]
    }
   ],
   "source": [
    "# Concatenation\n",
    "# ading two strings\n",
    "\n",
    "l2=['red','green']\n",
    "l1=[10,20,30]\n",
    "print(l2+l1)\n",
    "list4=list1+['blue']\n",
    "print(list4)\n"
   ]
  },
  {
   "cell_type": "code",
   "execution_count": 12,
   "metadata": {},
   "outputs": [
    {
     "name": "stdout",
     "output_type": "stream",
     "text": [
      "[10, 20, 30, 40, 10, 20, 30, 40, 10, 20, 30, 40]\n",
      "Ajay Ajay Ajay Ajay \n"
     ]
    }
   ],
   "source": [
    "# Repetition or Replication\n",
    "\n",
    "list5=[10,20,30,40]\n",
    "print(list5*3)\n",
    "x='Ajay '*4\n",
    "print(x)"
   ]
  },
  {
   "cell_type": "code",
   "execution_count": 13,
   "metadata": {},
   "outputs": [
    {
     "name": "stdout",
     "output_type": "stream",
     "text": [
      "True\n",
      "False\n"
     ]
    }
   ],
   "source": [
    "# Membership Testing\n",
    "\n",
    "x='python'\n",
    "print('o' in x)\n",
    "\n",
    "l3=[10,20,30,40]\n",
    "print(50 in l3)"
   ]
  },
  {
   "cell_type": "code",
   "execution_count": 14,
   "metadata": {},
   "outputs": [
    {
     "name": "stdout",
     "output_type": "stream",
     "text": [
      "green\n",
      "blue\n",
      "40\n",
      "10\n"
     ]
    }
   ],
   "source": [
    "# Indexing\n",
    "\n",
    "list1=['red','blue','green']\n",
    "list2=[10,20,30,40]\n",
    "print(list1[2])\n",
    "print(list1[-2])\n",
    "print(list2[3])\n",
    "print(list2[-4])"
   ]
  },
  {
   "cell_type": "code",
   "execution_count": 17,
   "metadata": {},
   "outputs": [
    {
     "name": "stdout",
     "output_type": "stream",
     "text": [
      "[30, 'red']\n",
      "[10, 20, 30, 'red', 'blue']\n",
      "['red', 'blue', 'green', 50, 90, 70]\n",
      "[10, 30, 'blue', 50, 70]\n",
      "[70, 50, 'blue', 30, 10]\n",
      "['green', 'blue', 'red']\n"
     ]
    }
   ],
   "source": [
    "# Slicing\n",
    "\n",
    "list1=[10,20,30,'red','blue','green',50,90,70]\n",
    "print(list1[2:4])\n",
    "print(list1[:5])\n",
    "print(list1[3:])\n",
    "print(list1[::2])\n",
    "print(list1[::-2])\n",
    "print(list1[5:2:-1])"
   ]
  },
  {
   "cell_type": "code",
   "execution_count": 18,
   "metadata": {},
   "outputs": [
    {
     "name": "stdout",
     "output_type": "stream",
     "text": [
      "[10, 20, 30, 40, 50]\n"
     ]
    }
   ],
   "source": [
    "# Built in Function\n",
    "# Append\n",
    "\n",
    "l1=[10,20,30]\n",
    "l1.append(40)\n",
    "l1.append(50)\n",
    "print(l1)"
   ]
  },
  {
   "cell_type": "code",
   "execution_count": 19,
   "metadata": {},
   "outputs": [
    {
     "name": "stdout",
     "output_type": "stream",
     "text": [
      "[5, 6, 7, 8, 9, 10]\n",
      "[9, 10, 11, 12, 13]\n"
     ]
    }
   ],
   "source": [
    "# Built in Function\n",
    "# Extend\n",
    "\n",
    "l1=[5,6,7,8]\n",
    "l2=[9,10]\n",
    "l1.extend(l2)\n",
    "print(l1)\n",
    "l2.extend([11,12,13])\n",
    "print(l2)"
   ]
  },
  {
   "cell_type": "code",
   "execution_count": 20,
   "metadata": {},
   "outputs": [
    {
     "name": "stdout",
     "output_type": "stream",
     "text": [
      "['Ajju', 'Ajay', 'Umar', 'Deepak', 'Rahul', 'Rohan']\n"
     ]
    }
   ],
   "source": [
    "# Built in Function\n",
    "# Insert\n",
    "\n",
    "names=['Ajay','Umar','Rahul','Rohan']\n",
    "names.insert(2,'Deepak')\n",
    "names.insert(0,'Ajju')\n",
    "print(names)"
   ]
  },
  {
   "cell_type": "code",
   "execution_count": 21,
   "metadata": {},
   "outputs": [
    {
     "name": "stdout",
     "output_type": "stream",
     "text": [
      "['Ram', 'Rohan', 'Ajay']\n"
     ]
    }
   ],
   "source": [
    "# Built in Function\n",
    "# Reverse\n",
    "\n",
    "names=['Ajay','Rohan','Ram']\n",
    "names.reverse()\n",
    "print(names)"
   ]
  },
  {
   "cell_type": "code",
   "execution_count": 22,
   "metadata": {},
   "outputs": [
    {
     "name": "stdout",
     "output_type": "stream",
     "text": [
      "2\n",
      "2\n"
     ]
    }
   ],
   "source": [
    "# Built in Function\n",
    "# Index\n",
    "\n",
    "l1=[10,20,30,40]\n",
    "print(l1.index(30))\n",
    "\n",
    "x='Ajay'\n",
    "print(x.index('a'))"
   ]
  },
  {
   "cell_type": "code",
   "execution_count": 25,
   "metadata": {},
   "outputs": [
    {
     "name": "stdout",
     "output_type": "stream",
     "text": [
      "[1, 2, 3, 6, 5]\n",
      "[2, 3, 4]\n",
      "['red', 'pink', 'white', 'yellow']\n"
     ]
    }
   ],
   "source": [
    "# Built in Function\n",
    "# Update\n",
    "\n",
    "list1=[1,2,3,4,5]\n",
    "list1[3]=6\n",
    "print(list1)\n",
    "\n",
    "l1=[1,2,3,4,5,6,7]\n",
    "l2=l1[1:4]\n",
    "print(l2)\n",
    "\n",
    "L1=['red','pink','blue','yellow']\n",
    "L1[2]='white'\n",
    "print(L1)"
   ]
  },
  {
   "cell_type": "code",
   "execution_count": 26,
   "metadata": {},
   "outputs": [
    {
     "name": "stdout",
     "output_type": "stream",
     "text": [
      "5\n",
      "6\n"
     ]
    }
   ],
   "source": [
    "# Built in Function\n",
    "# Len\n",
    "\n",
    "l1=[3,'book',4,5,'new']\n",
    "l3=[10,20,30,40,50,60]\n",
    "print(len(l1))\n",
    "print(len(l3))"
   ]
  },
  {
   "cell_type": "code",
   "execution_count": 27,
   "metadata": {},
   "outputs": [
    {
     "name": "stdout",
     "output_type": "stream",
     "text": [
      "[10, 20, 30, 40, 50, 60, 70, 90]\n",
      "['Red', 'blue', 'white', 'yellow']\n",
      "[90, 80, 70, 60, 50, 40, 30, 20, 10]\n",
      "['Vineet', 'Ram', 'Pankaj', 'Ajay']\n"
     ]
    }
   ],
   "source": [
    "# Built in Function\n",
    "# Sort\n",
    "\n",
    "l1=[20,50,40,10,60,30,70,90,]           # ascending order \n",
    "l1.sort()\n",
    "print(l1)\n",
    "\n",
    "list1=['Red','yellow','blue','white']   # ascending order\n",
    "list1.sort()\n",
    "print(list1)\n",
    "\n",
    "l2=[20,50,60,10,30,40,80,70,90]         # descending order\n",
    "l2.sort(reverse=True)\n",
    "print(l2)\n",
    "\n",
    "names=['Ajay','Ram','Vineet','Pankaj']  # descending order\n",
    "names.sort(reverse=True) \n",
    "print(names)"
   ]
  },
  {
   "cell_type": "code",
   "execution_count": 28,
   "metadata": {},
   "outputs": [
    {
     "name": "stdout",
     "output_type": "stream",
     "text": [
      "[]\n"
     ]
    }
   ],
   "source": [
    "# Built in Function\n",
    "# Clear\n",
    "\n",
    "l1=[10,20,30,40,50]\n",
    "l1.clear()\n",
    "print(l1)"
   ]
  },
  {
   "cell_type": "code",
   "execution_count": 30,
   "metadata": {},
   "outputs": [
    {
     "name": "stdout",
     "output_type": "stream",
     "text": [
      "4\n",
      "3\n"
     ]
    }
   ],
   "source": [
    "# Built in Function\n",
    "# Count\n",
    "\n",
    "l1=[10,50,10,60,20,40,10,50,40,10,20,50,40]\n",
    "print(l1.count(10))\n",
    "print(l1.count(40))"
   ]
  },
  {
   "cell_type": "code",
   "execution_count": 31,
   "metadata": {},
   "outputs": [
    {
     "name": "stdout",
     "output_type": "stream",
     "text": [
      "[1, 2, 3, 5, 6]\n",
      "4\n",
      "[1, 2, 3, 5]\n",
      "6\n",
      "[1, 2, 5]\n",
      "3\n"
     ]
    }
   ],
   "source": [
    "# Pop\n",
    "\n",
    "l1=[1,2,3,4,5,6]\n",
    "a=l1.pop(3)\n",
    "print(l1)\n",
    "print(a)\n",
    "b=l1.pop()\n",
    "print(l1)\n",
    "print(b)\n",
    "c=l1.pop(-2)\n",
    "print(l1)\n",
    "print(c)"
   ]
  },
  {
   "cell_type": "code",
   "execution_count": 33,
   "metadata": {},
   "outputs": [
    {
     "name": "stdout",
     "output_type": "stream",
     "text": [
      "[10, 20, 30, 50, 60, 70]\n",
      "[10, 50, 60, 70]\n"
     ]
    }
   ],
   "source": [
    "# Del \n",
    "\n",
    "l1=[10,20,30,40,50,60,70]\n",
    "del l1[3]\n",
    "print(l1)\n",
    "\n",
    "# Del with slicing\n",
    "del l1[1:3]\n",
    "print(l1)"
   ]
  },
  {
   "cell_type": "code",
   "execution_count": 35,
   "metadata": {},
   "outputs": [
    {
     "name": "stdout",
     "output_type": "stream",
     "text": [
      "[1, 2, 30, 50, 60, 6, 7]\n",
      "[1, 2, 30, 50, 60, 6]\n"
     ]
    }
   ],
   "source": [
    "# Remove\n",
    "\n",
    "l1=[1,2,30,40,50,60,6,7]\n",
    "l1.remove(40)\n",
    "print(l1)\n",
    "l1.remove(7)\n",
    "print(l1)"
   ]
  },
  {
   "cell_type": "code",
   "execution_count": 37,
   "metadata": {},
   "outputs": [
    {
     "name": "stdout",
     "output_type": "stream",
     "text": [
      "4\n",
      "True\n",
      "7\n"
     ]
    }
   ],
   "source": [
    "# Searching list\n",
    "\n",
    "list1=[10,20,'Red','blue',50,60,'yellow',40]\n",
    "print(list1.index(50))\n",
    "print(50 in list1)\n",
    "print(list1.index(40))"
   ]
  },
  {
   "cell_type": "code",
   "execution_count": 44,
   "metadata": {},
   "outputs": [
    {
     "name": "stdout",
     "output_type": "stream",
     "text": [
      "90\n",
      "10\n",
      "Z\n",
      "A\n",
      "a\n",
      "A\n"
     ]
    }
   ],
   "source": [
    "# Max and Min\n",
    "\n",
    "list1=[10,20,30,40,50,60,70,80,90]\n",
    "print(max(list1))\n",
    "print(min(list1))\n",
    "\n",
    "list3=['A','Z','B','C']\n",
    "print(max(list3))\n",
    "print(min(list3))\n",
    "\n",
    "l2=['A','a','Z']\n",
    "print(max(l2))\n",
    "print(min(l2))"
   ]
  },
  {
   "cell_type": "code",
   "execution_count": 47,
   "metadata": {},
   "outputs": [],
   "source": [
    "# Now on words Practice of the list will start"
   ]
  },
  {
   "cell_type": "code",
   "execution_count": 49,
   "metadata": {},
   "outputs": [
    {
     "name": "stdout",
     "output_type": "stream",
     "text": [
      "Enter the value: Ajju Bhai\n",
      "['A', 'j', 'j', 'u', ' ', 'B', 'h', 'a', 'i']\n"
     ]
    }
   ],
   "source": [
    "# user defined list\n",
    "\n",
    "n=list(input(\"Enter the value: \"))\n",
    "print(n)"
   ]
  },
  {
   "cell_type": "code",
   "execution_count": 51,
   "metadata": {},
   "outputs": [
    {
     "name": "stdout",
     "output_type": "stream",
     "text": [
      "Enter the number of element you want in list: 5\n",
      "Enter the element: 1\n",
      "Enter the element: 2\n",
      "Enter the element: 3\n",
      "Enter the element: 4\n",
      "Enter the element: 5\n",
      "The element you entered in list are:  [1, 2, 3, 4, 5]\n"
     ]
    }
   ],
   "source": [
    "# user defined list\n",
    "\n",
    "list1=[]\n",
    "n=int(input(\"Enter the number of element you want in list: \"))\n",
    "for i in range(n):\n",
    "    num=int(input(\"Enter the element: \"))\n",
    "    list1.append(num)\n",
    "print(\"The element you entered in list are: \",list1)"
   ]
  },
  {
   "cell_type": "code",
   "execution_count": 1,
   "metadata": {},
   "outputs": [
    {
     "name": "stdout",
     "output_type": "stream",
     "text": [
      "Enter the number of element: 5\n",
      "Enter the value: Ajay\n",
      "Enter the value: Rahul\n",
      "Enter the value: Vijay\n",
      "Enter the value: Aman\n",
      "Enter the value: Umar\n",
      "The element you entered in list are: ['Ajay', 'Rahul', 'Vijay', 'Aman', 'Umar']\n"
     ]
    }
   ],
   "source": [
    "# user defined list\n",
    "\n",
    "list1=[]\n",
    "n=int(input(\"Enter the number of element: \"))\n",
    "for i in range(n):\n",
    "    num=input(\"Enter the value: \")\n",
    "    list1.append(num)\n",
    "print(\"The element you entered in list are:\",list1)"
   ]
  },
  {
   "cell_type": "code",
   "execution_count": null,
   "metadata": {},
   "outputs": [],
   "source": []
  }
 ],
 "metadata": {
  "kernelspec": {
   "display_name": "Python 3",
   "language": "python",
   "name": "python3"
  },
  "language_info": {
   "codemirror_mode": {
    "name": "ipython",
    "version": 3
   },
   "file_extension": ".py",
   "mimetype": "text/x-python",
   "name": "python",
   "nbconvert_exporter": "python",
   "pygments_lexer": "ipython3",
   "version": "3.8.3"
  }
 },
 "nbformat": 4,
 "nbformat_minor": 4
}
