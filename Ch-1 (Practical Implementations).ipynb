{
 "cells": [
  {
   "cell_type": "code",
   "execution_count": 1,
   "metadata": {},
   "outputs": [
    {
     "name": "stdout",
     "output_type": "stream",
     "text": [
      "Series([], dtype: float64)\n"
     ]
    },
    {
     "name": "stderr",
     "output_type": "stream",
     "text": [
      "<ipython-input-1-ec6373d7f49e>:5: DeprecationWarning: The default dtype for empty Series will be 'object' instead of 'float64' in a future version. Specify a dtype explicitly to silence this warning.\n",
      "  s1=pd.Series()\n"
     ]
    }
   ],
   "source": [
    "# Practical Implementation-1 (page no.=1.6)\n",
    "# To create an Empty Series using Pandas.\n",
    " \n",
    "import pandas as pd\n",
    "s1=pd.Series()\n",
    "print(s1)"
   ]
  },
  {
   "cell_type": "code",
   "execution_count": 2,
   "metadata": {},
   "outputs": [
    {
     "name": "stdout",
     "output_type": "stream",
     "text": [
      "0    10\n",
      "1    20\n",
      "2    30\n",
      "3    40\n",
      "dtype: int64\n"
     ]
    }
   ],
   "source": [
    "# Practical Implementation-2 (page no.=1.7)\n",
    "# To Create series using List.\n",
    "\n",
    "import pandas as pd\n",
    "series1=pd.Series([10,20,30,40])        # using list to create a series\n",
    "print(series1)"
   ]
  },
  {
   "cell_type": "code",
   "execution_count": 3,
   "metadata": {},
   "outputs": [
    {
     "name": "stdout",
     "output_type": "stream",
     "text": [
      "Jan     31\n",
      "Feb     28\n",
      "Mar     31\n",
      "Apr     30\n",
      "May     31\n",
      "June    30\n",
      "dtype: int64\n"
     ]
    }
   ],
   "source": [
    "# Practical Implementation-3 (page no.=1.7)\n",
    "# To Create a series from two different Lists.\n",
    "\n",
    "import pandas as pd\n",
    "months = ['Jan','Feb','Mar','Apr','May','June']\n",
    "no_days = [31,28,31,30,31,30]\n",
    "series = pd.Series(no_days, index = months)\n",
    "print(series)"
   ]
  },
  {
   "cell_type": "code",
   "execution_count": 4,
   "metadata": {},
   "outputs": [
    {
     "name": "stdout",
     "output_type": "stream",
     "text": [
      "0    0\n",
      "1    1\n",
      "2    2\n",
      "3    3\n",
      "4    4\n",
      "dtype: int64\n"
     ]
    }
   ],
   "source": [
    "# Practical Implementation-4 (page no.=1.8)\n",
    "# To create a series using range() mehod.\n",
    "\n",
    "import pandas as pd\n",
    "series1 = pd.Series(range(5))\n",
    "print(series1)"
   ]
  },
  {
   "cell_type": "code",
   "execution_count": 5,
   "metadata": {},
   "outputs": [
    {
     "name": "stdout",
     "output_type": "stream",
     "text": [
      "a     1\n",
      "b     4\n",
      "c     7\n",
      "d    10\n",
      "e    13\n",
      "dtype: int64\n"
     ]
    }
   ],
   "source": [
    "# Practical Implementation-5 (page no.=1.8)\n",
    "# To create a series with range() and for loop.\n",
    "\n",
    "import pandas as pd\n",
    "s = pd.Series(range(1,15,3), index=[x for x in 'abcde'])\n",
    "print(s)"
   ]
  },
  {
   "cell_type": "code",
   "execution_count": 6,
   "metadata": {},
   "outputs": [
    {
     "name": "stdout",
     "output_type": "stream",
     "text": [
      "0    2.0\n",
      "1    4.0\n",
      "2    6.0\n",
      "3    7.5\n",
      "dtype: float64\n"
     ]
    }
   ],
   "source": [
    "# Practical Implementation-6 (page no.=1.8)\n",
    "# Handling floating poiint values for generating a series.\n",
    "\n",
    "import pandas as pd\n",
    "series1 = pd.Series([2,4,6,7.5])\n",
    "print(series1)"
   ]
  },
  {
   "cell_type": "code",
   "execution_count": 7,
   "metadata": {},
   "outputs": [
    {
     "name": "stdout",
     "output_type": "stream",
     "text": [
      "0     7.5\n",
      "1     5.4\n",
      "2     NaN\n",
      "3   -34.5\n",
      "dtype: float64\n"
     ]
    }
   ],
   "source": [
    "# creating series using missing values(NaN) (page no.=1.9)\n",
    "\n",
    "import pandas as pd\n",
    "import numpy as np\n",
    "sobj=pd.Series([7.5,5.4,np.NaN,-34.5])\n",
    "print(sobj)"
   ]
  },
  {
   "cell_type": "code",
   "execution_count": 2,
   "metadata": {},
   "outputs": [
    {
     "name": "stdout",
     "output_type": "stream",
     "text": [
      "0    1\n",
      "1    2\n",
      "2    3\n",
      "3    4\n",
      "4    5\n",
      "5    6\n",
      "dtype: int64 \n",
      "\n",
      "First     1\n",
      "Second    2\n",
      "Third     3\n",
      "Fourth    4\n",
      "Fifth     5\n",
      "Sixth     6\n",
      "dtype: int64\n"
     ]
    }
   ],
   "source": [
    "# Practical Implementation-7 (page no.=1.9)\n",
    "# Modification \n",
    "\n",
    "import pandas as pd\n",
    "s1=pd.Series([1,2,3,4,5,6])\n",
    "print(s1,'\\n')\n",
    "s1.index=['First','Second','Third','Fourth','Fifth','Sixth']\n",
    "print(s1)"
   ]
  },
  {
   "cell_type": "code",
   "execution_count": 9,
   "metadata": {},
   "outputs": [
    {
     "name": "stdout",
     "output_type": "stream",
     "text": [
      "a    10\n",
      "b    20\n",
      "c    30\n",
      "d    40\n",
      "e    50\n",
      "dtype: int64\n"
     ]
    }
   ],
   "source": [
    "# modify the index values in place as per requirement.\n",
    "\n",
    "import pandas as pd\n",
    "series2 = pd.Series([10,20,30,40,50],index = ['a','b','c','d','e'])\n",
    "print(series2)"
   ]
  },
  {
   "cell_type": "code",
   "execution_count": 10,
   "metadata": {},
   "outputs": [
    {
     "name": "stdout",
     "output_type": "stream",
     "text": [
      "40\n",
      "a    10\n",
      "c    30\n",
      "e    50\n",
      "dtype: int64\n"
     ]
    }
   ],
   "source": [
    "# Practical Implementation-8 (page no.=1.10)\n",
    "# To access single and multiple values based on index.\n",
    "\n",
    "import pandas as pd\n",
    "series2=pd.Series([10,20,30,40,50],index=['a','b','c','d','e'])\n",
    "print(series2['d'])\n",
    "print(series2[['a','c','e']])"
   ]
  },
  {
   "cell_type": "code",
   "execution_count": 11,
   "metadata": {},
   "outputs": [
    {
     "name": "stdout",
     "output_type": "stream",
     "text": [
      "1\n",
      "a    1\n",
      "b    2\n",
      "c    3\n",
      "dtype: int64\n",
      "c    3\n",
      "d    4\n",
      "e    5\n",
      "dtype: int64\n"
     ]
    }
   ],
   "source": [
    "# Practical Implementation-9 (page no.=1.10)\n",
    "# To perform indexing, slicing and accessing data from a series.\n",
    "\n",
    "import pandas as pd\n",
    "s =pd.Series([1,2,3,4,5],index =['a','b','c','d','e'])\n",
    "print(s[0])\n",
    "print(s[:3])\n",
    "print(s[-3:])"
   ]
  },
  {
   "cell_type": "code",
   "execution_count": 12,
   "metadata": {},
   "outputs": [
    {
     "name": "stdout",
     "output_type": "stream",
     "text": [
      "b    2\n",
      "c    3\n",
      "d    4\n",
      "dtype: int64\n",
      "b    2\n",
      "c    3\n",
      "d    4\n",
      "e    5\n",
      "dtype: int64\n"
     ]
    }
   ],
   "source": [
    "# Usage of loc and iloc for accessing elements of a series (page no.=1.11)\n",
    "\n",
    "import pandas as pd\n",
    "s=pd.Series([1,2,3,4,5],index=['a','b','c','d','e'])\n",
    "print(s.iloc[1:4])\n",
    "print(s.loc['b':'e'])"
   ]
  },
  {
   "cell_type": "code",
   "execution_count": 13,
   "metadata": {},
   "outputs": [
    {
     "name": "stdout",
     "output_type": "stream",
     "text": [
      "a    55\n",
      "b    55\n",
      "c    55\n",
      "d    55\n",
      "e    55\n",
      "dtype: int64\n",
      "0    55\n",
      "1    55\n",
      "2    55\n",
      "3    55\n",
      "dtype: int64\n"
     ]
    }
   ],
   "source": [
    "# Practical Implementation-10 (page no.=1.11)\n",
    "# To create a series from a numerical scalar or constant vlaue.\n",
    "\n",
    "import pandas as pd\n",
    "series1 =pd.Series(55,index=['a','b','c','d','e'])\n",
    "print(series1)\n",
    "\n",
    "# Another format\n",
    "series2 =pd.Series(55,index =[0,1,2,3])\n",
    "print(series2)"
   ]
  },
  {
   "cell_type": "code",
   "execution_count": 14,
   "metadata": {},
   "outputs": [
    {
     "name": "stdout",
     "output_type": "stream",
     "text": [
      "0    10\n",
      "1    10\n",
      "2    10\n",
      "dtype: int64\n",
      "1    15\n",
      "3    15\n",
      "5    15\n",
      "dtype: int64\n"
     ]
    }
   ],
   "source": [
    "# Creating series using scalar values with index through range()  (page no.=1.12)\n",
    "\n",
    "import pandas as pd\n",
    "s1 =pd.Series(10,index =range(0,3))\n",
    "print(s1)\n",
    "\n",
    "# using range() to display the index values with a difference of 2 positions\n",
    "s2 =pd.Series(15,index=range(1,6,2))\n",
    "print(s2)"
   ]
  },
  {
   "cell_type": "code",
   "execution_count": 15,
   "metadata": {},
   "outputs": [
    {
     "name": "stdout",
     "output_type": "stream",
     "text": [
      "Sonia      Welcome to TCS\n",
      "Vinay      Welcome to TCS\n",
      "Shaurya    Welcome to TCS\n",
      "RAhul      Welcome to TCS\n",
      "dtype: object\n"
     ]
    }
   ],
   "source": [
    "# Practical Implementation-11 (page no.=1.12)\n",
    "# To create a series using string as index.\n",
    "\n",
    "import pandas as pd\n",
    "s =pd.Series('Welcome to TCS',index=['Sonia','Vinay','Shaurya','RAhul'])\n",
    "print(s)"
   ]
  },
  {
   "cell_type": "code",
   "execution_count": 16,
   "metadata": {},
   "outputs": [
    {
     "name": "stdout",
     "output_type": "stream",
     "text": [
      "Jan    31\n",
      "Feb    28\n",
      "Mar    31\n",
      "Apr    30\n",
      "dtype: int64\n"
     ]
    }
   ],
   "source": [
    "# Practical Implementation-12 (page no.=1.13)\n",
    "# To create a series from Dictionary\n",
    "\n",
    "import pandas as pd\n",
    "series =pd.Series({'Jan':31,'Feb':28,'Mar':31,'Apr':30})\n",
    "print(series)"
   ]
  },
  {
   "cell_type": "code",
   "execution_count": 17,
   "metadata": {},
   "outputs": [
    {
     "name": "stdout",
     "output_type": "stream",
     "text": [
      "Month\n",
      "Jan    31\n",
      "Feb    28\n",
      "Mar    31\n",
      "Apr    30\n",
      "Name: Days, dtype: int64\n"
     ]
    }
   ],
   "source": [
    "# Naming a series and the index column   (page no.=1.13)\n",
    "\n",
    "import pandas as pd\n",
    "series =pd.Series({'Jan':31,'Feb':28,'Mar':31,'Apr':30})\n",
    "series.name = 'Days'\n",
    "series.index.name ='Month'\n",
    "print(series)"
   ]
  },
  {
   "cell_type": "code",
   "execution_count": 18,
   "metadata": {},
   "outputs": [
    {
     "name": "stdout",
     "output_type": "stream",
     "text": [
      "[10 11 12 13 14]\n",
      "10    40\n",
      "11    44\n",
      "12    48\n",
      "13    52\n",
      "14    56\n",
      "dtype: int32\n"
     ]
    }
   ],
   "source": [
    "# Practical Implementation-13 (page no.=1.14)\n",
    "# To generate a series using a mathematical expression.\n",
    "\n",
    "import pandas as pd\n",
    "import numpy as np\n",
    "s1= np.arange(10,15)\n",
    "print(s1)\n",
    "sobj=pd.Series(index =s1,data=s1*4)\n",
    "print(sobj)"
   ]
  },
  {
   "cell_type": "code",
   "execution_count": 19,
   "metadata": {},
   "outputs": [
    {
     "name": "stdout",
     "output_type": "stream",
     "text": [
      "[10 11 12 13 14]\n",
      "10    100\n",
      "11    121\n",
      "12    144\n",
      "13    169\n",
      "14    196\n",
      "dtype: int32\n"
     ]
    }
   ],
   "source": [
    "# Practical Implementation-14 (page no.=1.14)\n",
    "# To generate a series using a mathematical function (exponentiation).\n",
    "\n",
    "import pandas as pd\n",
    "import numpy as np\n",
    "s1= np.arange(10,15)\n",
    "print(s1)\n",
    "sobj=pd.Series(index =s1,data=s1**2)\n",
    "print(sobj)"
   ]
  },
  {
   "cell_type": "code",
   "execution_count": 20,
   "metadata": {},
   "outputs": [
    {
     "name": "stdout",
     "output_type": "stream",
     "text": [
      "0    10\n",
      "1    20\n",
      "2    30\n",
      "3    40\n",
      "dtype: int32\n"
     ]
    }
   ],
   "source": [
    "# Practical Implementation-15 (page no.=1.15)\n",
    "# To  generate a series using a one=dimensional (1D) array.\n",
    "\n",
    "import pandas as pd\n",
    "import numpy as np\n",
    "array1=np.array([10,20,30,40])\n",
    "series1=pd.Series(array1)\n",
    "print(series1)"
   ]
  },
  {
   "cell_type": "code",
   "execution_count": 21,
   "metadata": {},
   "outputs": [
    {
     "name": "stdout",
     "output_type": "stream",
     "text": [
      "a    10\n",
      "b    20\n",
      "c    30\n",
      "d    40\n",
      "dtype: int32\n"
     ]
    }
   ],
   "source": [
    "# Practical Implementation-16 (page no.=1.15)\n",
    "# To generate a series using a one-dimensional (1D) array with explicit index.\n",
    "\n",
    "import pandas as pd\n",
    "import numpy as np\n",
    "array1=np.array([10,20,30,40])\n",
    "series1=pd.Series(array1,index=['a','b','c','d'])\n",
    "print(series1)"
   ]
  },
  {
   "cell_type": "code",
   "execution_count": 3,
   "metadata": {},
   "outputs": [
    {
     "name": "stdout",
     "output_type": "stream",
     "text": [
      "a     1\n",
      "b     4\n",
      "c     7\n",
      "d    10\n",
      "e    13\n",
      "dtype: int64\n",
      "Index(['a', 'b', 'c', 'd', 'e'], dtype='object')\n",
      "[ 1  4  7 10 13]\n",
      "(5,)\n",
      "5\n",
      "40\n",
      "1\n"
     ]
    }
   ],
   "source": [
    "# Practical Implementation-17 (page no.=1.16)\n",
    "# To illustrate the various attributes related to a series object.\n",
    "\n",
    "import pandas as pd\n",
    "s =pd.Series(range(1,15,3),index =[x for x in 'abcde'])\n",
    "print(s)\n",
    "print(s.index)\n",
    "print(s.values)\n",
    "print(s.shape)\n",
    "print(s.size)\n",
    "print(s.nbytes)\n",
    "print(s.ndim)\n",
    "#print(s.itemsize)"
   ]
  },
  {
   "cell_type": "code",
   "execution_count": 23,
   "metadata": {},
   "outputs": [
    {
     "name": "stdout",
     "output_type": "stream",
     "text": [
      "a    10\n",
      "b    20\n",
      "c    30\n",
      "d    40\n",
      "e    50\n",
      "dtype: int64\n",
      "a    10\n",
      "b    20\n",
      "dtype: int64\n",
      "d    40\n",
      "e    50\n",
      "dtype: int64\n"
     ]
    }
   ],
   "source": [
    "# Practical Implementation-18 (page no.=1.16)\n",
    "# Using head() and tail() functions on series\n",
    "\n",
    "import pandas as pd\n",
    "series1 =pd.Series([10,20,30,40,50],index=['a','b','c','d','e'])\n",
    "print(series1)\n",
    "print(series1.head(2))      # if no argument is provided then by default 5 rows are displayed\n",
    "print(series1.tail(2))"
   ]
  },
  {
   "cell_type": "code",
   "execution_count": 24,
   "metadata": {},
   "outputs": [
    {
     "name": "stdout",
     "output_type": "stream",
     "text": [
      "1    11\n",
      "2    12\n",
      "3    13\n",
      "4    14\n",
      "dtype: int64 \n",
      "\n",
      "1    21\n",
      "2    22\n",
      "3    23\n",
      "4    24\n",
      "dtype: int64 \n",
      "\n",
      "101    21\n",
      "102    22\n",
      "103    23\n",
      "104    24\n",
      "dtype: int64 \n",
      "\n",
      "10     10\n",
      "102    10\n",
      "103    10\n",
      "4      10\n",
      "dtype: int64 \n",
      "\n"
     ]
    }
   ],
   "source": [
    "# Practical Implementation-19 (page no.=1.17)\n",
    "# To illustrate the working of mathematical operators on series.\n",
    "\n",
    "import pandas as pd\n",
    "s=pd.Series([11,12,13,14],index=[1,2,3,4])\n",
    "s1=pd.Series([21,22,23,24],index=[1,2,3,4])\n",
    "s3=pd.Series([21,22,23,24],index=[101,102,103,104])\n",
    "s4=pd.Series(10,index=[10,102,103,4])\n",
    "print(s,'\\n')\n",
    "print(s1,'\\n')\n",
    "print(s3,'\\n')\n",
    "print(s4,'\\n')"
   ]
  },
  {
   "cell_type": "code",
   "execution_count": 25,
   "metadata": {
    "collapsed": true
   },
   "outputs": [
    {
     "name": "stdout",
     "output_type": "stream",
     "text": [
      "1    32\n",
      "2    34\n",
      "3    36\n",
      "4    38\n",
      "dtype: int64 \n",
      "\n",
      "1    231\n",
      "2    264\n",
      "3    299\n",
      "4    336\n",
      "dtype: int64 n\n",
      "1    0.523810\n",
      "2    0.545455\n",
      "3    0.565217\n",
      "4    0.583333\n",
      "dtype: float64 \n",
      "\n",
      "1     NaN\n",
      "2     NaN\n",
      "3     NaN\n",
      "4     NaN\n",
      "101   NaN\n",
      "102   NaN\n",
      "103   NaN\n",
      "104   NaN\n",
      "dtype: float64 \n",
      "\n",
      "4       NaN\n",
      "10      NaN\n",
      "101     NaN\n",
      "102    12.0\n",
      "103    13.0\n",
      "104     NaN\n",
      "dtype: float64\n"
     ]
    }
   ],
   "source": [
    "# Mathematical operations on series  (page no.=1.17)\n",
    "\n",
    "# Addition of s and s1\n",
    "print(s+s1,'\\n')\n",
    "\n",
    "# Multiplication of s and s1\n",
    "print(s*s1,'n')\n",
    "\n",
    "# division of s and s1\n",
    "print(s/s1,'\\n')\n",
    "\n",
    "# Addition of s and s3\n",
    "print(s+s3,'\\n')\n",
    "\n",
    "# difference of s3 and s4\n",
    "print(s3-s4)"
   ]
  },
  {
   "cell_type": "code",
   "execution_count": 26,
   "metadata": {
    "collapsed": true
   },
   "outputs": [
    {
     "name": "stdout",
     "output_type": "stream",
     "text": [
      "1    11\n",
      "2    12\n",
      "3    13\n",
      "4    14\n",
      "dtype: int64 \n",
      "\n",
      "1    13\n",
      "2    14\n",
      "3    15\n",
      "4    16\n",
      "dtype: int64 \n",
      "\n",
      "1    33\n",
      "2    36\n",
      "3    39\n",
      "4    42\n",
      "dtype: int64 \n",
      "\n",
      "1    121\n",
      "2    144\n",
      "3    169\n",
      "4    196\n",
      "dtype: int64 \n",
      "\n",
      "1    False\n",
      "2    False\n",
      "3    False\n",
      "4     True\n",
      "dtype: bool\n"
     ]
    }
   ],
   "source": [
    "# Vector operations on series   (page no.=1.17)\n",
    "\n",
    "print(s,'\\n')\n",
    "print(s+2,'\\n')\n",
    "print(s*3,'\\n')\n",
    "print(s**2,'\\n')\n",
    "print(s>13)"
   ]
  },
  {
   "cell_type": "code",
   "execution_count": 27,
   "metadata": {
    "collapsed": true
   },
   "outputs": [
    {
     "name": "stdout",
     "output_type": "stream",
     "text": [
      "0    1.000000\n",
      "1    1.414214\n",
      "2    1.732051\n",
      "3    2.000000\n",
      "dtype: float64 \n",
      "\n",
      "0     True\n",
      "1     True\n",
      "2     True\n",
      "3    False\n",
      "dtype: bool \n",
      "\n",
      "0    1.000000\n",
      "1    1.414214\n",
      "2    1.732051\n",
      "dtype: float64 \n",
      "\n",
      "3    2.0\n",
      "dtype: float64\n"
     ]
    }
   ],
   "source": [
    "# Condition based retrieval  (page no.=1.18)\n",
    "    \n",
    "import pandas as pd\n",
    "s=pd.Series([1.000000,1.414214,1.732051,2.000000])\n",
    "print(s,'\\n')\n",
    "print(s<2,'\\n')\n",
    "print(s[s<2],'\\n')   # Displaying all the values less than 2\n",
    "print(s[s>=2])"
   ]
  },
  {
   "cell_type": "code",
   "execution_count": 28,
   "metadata": {
    "collapsed": true
   },
   "outputs": [
    {
     "name": "stdout",
     "output_type": "stream",
     "text": [
      "0    1.000000\n",
      "1    1.414214\n",
      "2    1.732051\n",
      "3    2.000000\n",
      "dtype: float64 \n",
      "\n",
      "0    1.000000\n",
      "1    1.414214\n",
      "2    1.732051\n",
      "dtype: float64\n"
     ]
    }
   ],
   "source": [
    "# Deleting Elements form a series\n",
    "\n",
    "import pandas as pd\n",
    "s=pd.Series([1.000000,1.414214,1.732051,2.000000])\n",
    "print(s,'\\n')\n",
    "print(s.drop(3))"
   ]
  },
  {
   "cell_type": "code",
   "execution_count": 29,
   "metadata": {
    "collapsed": true
   },
   "outputs": [
    {
     "name": "stdout",
     "output_type": "stream",
     "text": [
      "             2018  2019  2020\n",
      "Accountancy  85.4  77.9  86.5\n",
      "IP           88.2  80.5  90.0\n",
      "Economics    80.3  78.6  77.5\n",
      "English      79.0  76.2  80.5\n"
     ]
    }
   ],
   "source": [
    "# Creating a DataFrame\n",
    "\n",
    "import pandas as pd\n",
    "dict={'2018':[85.4,88.2,80.3,79.0],'2019':[77.9,80.5,78.6,76.2],'2020':[86.5,90.0,77.5,80.5]}\n",
    "df=pd.DataFrame(dict,index=['Accountancy','IP','Economics','English'])\n",
    "print(df)"
   ]
  },
  {
   "cell_type": "code",
   "execution_count": 30,
   "metadata": {
    "collapsed": true
   },
   "outputs": [
    {
     "name": "stdout",
     "output_type": "stream",
     "text": [
      "             2018  2019  2020\n",
      "Accountancy  85.4  77.9  86.5\n",
      "IP           88.2  80.5  90.0\n",
      "Economics    80.3  78.6  77.5\n",
      "English      79.0  76.2  80.5 \n",
      "\n",
      "Index(['Accountancy', 'IP', 'Economics', 'English'], dtype='object') \n",
      "\n",
      "Index(['2018', '2019', '2020'], dtype='object') \n",
      "\n",
      "[Index(['Accountancy', 'IP', 'Economics', 'English'], dtype='object'), Index(['2018', '2019', '2020'], dtype='object')] \n",
      "\n",
      "2018    float64\n",
      "2019    float64\n",
      "2020    float64\n",
      "dtype: object \n",
      "\n",
      "12 \n",
      "\n",
      "(4, 3) \n",
      "\n",
      "2\n"
     ]
    }
   ],
   "source": [
    "# Attributes of a Dataframe   (page no.=1.19)\n",
    "\n",
    "import pandas as pd\n",
    "dict={'2018':[85.4,88.2,80.3,79.0],'2019':[77.9,80.5,78.6,76.2],'2020':[86.5,90.0,77.5,80.5]}\n",
    "df=pd.DataFrame(dict,index=['Accountancy','IP','Economics','English'])\n",
    "print(df,'\\n')\n",
    "\n",
    "print(df.index,'\\n')        # 1.index\n",
    "print(df.columns,'\\n')      # 2.columns\n",
    "print(df.axes,'\\n')         # 3.axes\n",
    "print(df.dtypes,'\\n')       # 4.dtypes\n",
    "print(df.size,'\\n')         # 5.size\n",
    "print(df.shape,'\\n')        # 6.shape\n",
    "print(df.ndim)              #7.ndim"
   ]
  },
  {
   "cell_type": "code",
   "execution_count": 31,
   "metadata": {
    "collapsed": true
   },
   "outputs": [
    {
     "name": "stdout",
     "output_type": "stream",
     "text": [
      "Using 'Empty' on DataFrame:  False\n",
      "\n",
      "\n",
      "Finding NaN values.... \n",
      "               2018   2019   2020\n",
      "Accountancy  False  False  False\n",
      "IP           False  False  False\n",
      "Economics    False  False  False\n",
      "English      False  False  False\n",
      "NOT FOUND\n"
     ]
    }
   ],
   "source": [
    "# 8.empty\n",
    "\n",
    "import pandas as pd\n",
    "dict={'2018':[85.4,88.2,80.3,79.0],'2019':[77.9,80.5,78.6,76.2],'2020':[86.5,90.0,77.5,80.5]}\n",
    "df=pd.DataFrame(dict,index=['Accountancy','IP','Economics','English'])\n",
    "print(\"Using 'Empty' on DataFrame: \",df.empty)\n",
    "print('\\n')\n",
    "print('Finding NaN values....','\\n',df.isna())\n",
    "print(\"NOT FOUND\")"
   ]
  },
  {
   "cell_type": "code",
   "execution_count": 32,
   "metadata": {
    "collapsed": true
   },
   "outputs": [
    {
     "name": "stdout",
     "output_type": "stream",
     "text": [
      "             2018  2019  2020\n",
      "Accountancy  85.4  77.9  86.5\n",
      "IP           88.2  80.5  90.0\n",
      "Economics    80.3  78.6  77.5\n",
      "English      79.0  76.2  80.5\n",
      "\n",
      "\n",
      "When we use 'count()':\n",
      "2018    4\n",
      "2019    4\n",
      "2020    4\n",
      "dtype: int64\n",
      "\n",
      "\n",
      "When we use 'count(axis='index')':\n",
      "2018    4\n",
      "2019    4\n",
      "2020    4\n",
      "dtype: int64\n",
      "\n",
      "\n",
      "When we use 'count(1)':\n",
      "Accountancy    3\n",
      "IP             3\n",
      "Economics      3\n",
      "English        3\n",
      "dtype: int64\n",
      "\n",
      "\n",
      "When we use 'count(axis='columns')':\n",
      "Accountancy    3\n",
      "IP             3\n",
      "Economics      3\n",
      "English        3\n",
      "dtype: int64\n"
     ]
    }
   ],
   "source": [
    "# 9.count\n",
    "\n",
    "import pandas as pd\n",
    "dict={'2018':[85.4,88.2,80.3,79.0],'2019':[77.9,80.5,78.6,76.2],'2020':[86.5,90.0,77.5,80.5]}\n",
    "df=pd.DataFrame(dict,index=['Accountancy','IP','Economics','English'])\n",
    "print(df)\n",
    "print('\\n')\n",
    "print(\"When we use 'count()':\")\n",
    "print(df.count())\n",
    "print('\\n')\n",
    "print(\"When we use 'count(axis='index')':\")\n",
    "print(df.count(axis='index'))\n",
    "print('\\n')\n",
    "print(\"When we use 'count(1)':\")\n",
    "print(df.count(1))\n",
    "print('\\n')\n",
    "print(\"When we use 'count(axis='columns')':\")\n",
    "print(df.count(axis='columns'))"
   ]
  },
  {
   "cell_type": "code",
   "execution_count": 33,
   "metadata": {
    "collapsed": true
   },
   "outputs": [
    {
     "name": "stdout",
     "output_type": "stream",
     "text": [
      "             2018  2019  2020\n",
      "Accountancy  85.4  77.9  86.5\n",
      "IP           88.2  80.5  90.0\n",
      "Economics    80.3  78.6  77.5\n",
      "English      79.0  76.2  80.5\n",
      "\n",
      "\n",
      "After transpose:\n",
      "      Accountancy    IP  Economics  English\n",
      "2018         85.4  88.2       80.3     79.0\n",
      "2019         77.9  80.5       78.6     76.2\n",
      "2020         86.5  90.0       77.5     80.5\n"
     ]
    }
   ],
   "source": [
    "# 10.T(Transpose)\n",
    "\n",
    "import pandas as pd\n",
    "dict={'2018':[85.4,88.2,80.3,79.0],'2019':[77.9,80.5,78.6,76.2],'2020':[86.5,90.0,77.5,80.5]}\n",
    "df=pd.DataFrame(dict,index=['Accountancy','IP','Economics','English'])\n",
    "print(df)\n",
    "print('\\n')\n",
    "df1=df.T\n",
    "print(\"After transpose:\")\n",
    "print(df1)"
   ]
  },
  {
   "cell_type": "code",
   "execution_count": 34,
   "metadata": {
    "collapsed": true
   },
   "outputs": [
    {
     "name": "stdout",
     "output_type": "stream",
     "text": [
      "Empty DataFrame\n",
      "Columns: []\n",
      "Index: []\n"
     ]
    }
   ],
   "source": [
    "# Creating an Empty Dataframe  (page no.=1.23)\n",
    "\n",
    "import pandas as pd\n",
    "df1=pd.DataFrame()\n",
    "print(df1)"
   ]
  },
  {
   "cell_type": "code",
   "execution_count": 35,
   "metadata": {
    "collapsed": true
   },
   "outputs": [
    {
     "name": "stdout",
     "output_type": "stream",
     "text": [
      "    0\n",
      "0  10\n",
      "1  20\n",
      "2  30\n",
      "3  40\n",
      "4  50\n"
     ]
    }
   ],
   "source": [
    "# To create a dataframe from list.   (page no.=1.24)\n",
    "\n",
    "import pandas as pd\n",
    "list1=[10,20,30,40,50]\n",
    "df1=pd.DataFrame(list1)\n",
    "print(df1)"
   ]
  },
  {
   "cell_type": "code",
   "execution_count": 36,
   "metadata": {
    "collapsed": true
   },
   "outputs": [
    {
     "name": "stdout",
     "output_type": "stream",
     "text": [
      "     Name  Age\n",
      "0  Shreya   20\n",
      "1    Umar   17\n",
      "2    Ajay   18\n"
     ]
    }
   ],
   "source": [
    "# To create dataframe from student list.   (page no.=1.24)\n",
    "\n",
    "import pandas as pd1\n",
    "data1=[['Shreya',20],['Umar',17],['Ajay',18]]\n",
    "df1 = pd1.DataFrame(data1,columns=['Name','Age'])   # Defining column names to be displayed as headings\n",
    "print(df1)"
   ]
  },
  {
   "cell_type": "code",
   "execution_count": 37,
   "metadata": {
    "collapsed": true
   },
   "outputs": [
    {
     "name": "stdout",
     "output_type": "stream",
     "text": [
      "         Marks  Age\n",
      "Vijaya      80   32\n",
      "Rahul       92   28\n",
      "Meghna      67   30\n",
      "Radhika     95   25\n",
      "Shaurya     97   20\n"
     ]
    }
   ],
   "source": [
    "# Practical Implementation-20   (page no.=1.25)\n",
    "# To create dataframe from two series of studentg data.\n",
    "\n",
    "import pandas as pd\n",
    "student_marks =pd.Series({'Vijaya':80,'Rahul':92,'Meghna':67,'Radhika':95,'Shaurya':97})\n",
    "student_age =pd.Series({'Vijaya':32,'Rahul':28,'Meghna':30,'Radhika':25,'Shaurya':20})\n",
    "student_df =pd.DataFrame({'Marks':student_marks,'Age':student_age})\n",
    "print(student_df)"
   ]
  },
  {
   "cell_type": "code",
   "execution_count": 38,
   "metadata": {
    "collapsed": true
   },
   "outputs": [
    {
     "name": "stdout",
     "output_type": "stream",
     "text": [
      "         Marks  Age\n",
      "Vijaya      80   32\n",
      "Rahul       92   28\n",
      "Meghna      67   30\n",
      "Radhika     95   25\n",
      "Shaurya     97   20\n",
      "\n",
      "\n",
      "         Marks  Age\n",
      "Meghna      67   30\n",
      "Vijaya      80   32\n",
      "Rahul       92   28\n",
      "Radhika     95   25\n",
      "Shaurya     97   20\n",
      "\n",
      "\n",
      "         Marks  Age\n",
      "Shaurya     97   20\n",
      "Radhika     95   25\n",
      "Rahul       92   28\n",
      "Vijaya      80   32\n",
      "Meghna      67   30\n"
     ]
    }
   ],
   "source": [
    "# Practical Implementation-21   (page no.=1.25)\n",
    "# Sorting the data in a dataframe\n",
    "\n",
    "import pandas as pd\n",
    "student_marks =pd.Series({'Vijaya':80,'Rahul':92,'Meghna':67,'Radhika':95,'Shaurya':97})\n",
    "student_age =pd.Series({'Vijaya':32,'Rahul':28,'Meghna':30,'Radhika':25,'Shaurya':20})\n",
    "student_df =pd.DataFrame({'Marks':student_marks,'Age':student_age})\n",
    "\n",
    "print(student_df)  # Sorting the data on the basis of marks in ascending order\n",
    "print('\\n')\n",
    "print(student_df.sort_values(by=['Marks']))  # by keywords defines the field on the basis of which the data is to be sorted\n",
    "print('\\n')\n",
    "print(student_df.sort_values(by=['Marks'],ascending=False))    # Sorted in descending order of marks"
   ]
  },
  {
   "cell_type": "code",
   "execution_count": 39,
   "metadata": {
    "collapsed": true
   },
   "outputs": [
    {
     "name": "stdout",
     "output_type": "stream",
     "text": [
      "     Name  English  Economics  IP  Accounts\n",
      "0   Rinku       67         78  78        77\n",
      "1    Ritu       78         67  88        70\n",
      "2    Ajay       75         89  99        80\n",
      "3  Pankaj       88         90  90        61\n",
      "4  Aditya       92         56  87        86\n"
     ]
    }
   ],
   "source": [
    "# Creating dataframe using dictionary of lists   (page no.=1.26)\n",
    "\n",
    "import pandas as pd\n",
    "student={'Name':['Rinku','Ritu','Ajay','Pankaj','Aditya'],'English':[67,78,75,88,92],'Economics':[78,67,89,90,56],'IP':[78,88,99,90,87],'Accounts':[77,70,80,61,86]}\n",
    "df=pd.DataFrame(student)\n",
    "print(df)"
   ]
  },
  {
   "cell_type": "code",
   "execution_count": 40,
   "metadata": {
    "collapsed": true
   },
   "outputs": [
    {
     "name": "stdout",
     "output_type": "stream",
     "text": [
      "      Name  English  Economics  Informatics Practices\n",
      "0    Rinku       89         87                     89\n",
      "1     Deep       78         80                     78\n",
      "2  Shaurya       89         60                     67\n",
      "3  RAdhika       90         84                     90\n"
     ]
    }
   ],
   "source": [
    "# Creating a dataframe from dictionary of series\n",
    "\n",
    "import numpy as np\n",
    "import pandas as pd\n",
    "n=pd.Series(['Rinku','Deep','Shaurya','RAdhika'])\n",
    "Eng=pd.Series([89,78,89,90])\n",
    "Eco=pd.Series([87,80,60,84])\n",
    "IP=pd.Series([89,78,67,90])\n",
    "\n",
    "Stud_Result={'Name':n,'English':Eng,'Economics':Eco,'Informatics Practices':IP}\n",
    "\n",
    "df=pd.DataFrame(Stud_Result)        # Creating dataframe\n",
    "print(df)"
   ]
  },
  {
   "cell_type": "code",
   "execution_count": 41,
   "metadata": {
    "collapsed": true
   },
   "outputs": [
    {
     "name": "stdout",
     "output_type": "stream",
     "text": [
      "      Name  English  Economics  Informatics Practices\n",
      "0    Rinku       89         87                     89\n",
      "1     Deep       78         80                     78\n",
      "2  Shaurya       89         60                     67\n",
      "3  Radhika       90         84                     90\n"
     ]
    }
   ],
   "source": [
    "#Practical Implementation-22   (page no.=1.27)\n",
    "# To Create a dataframe from a dictionary of series by directly passing values to dictionary by Series() method.\n",
    "\n",
    "import pandas as pd\n",
    "Stud_Result={\"Name\":pd.Series(['Rinku','Deep','Shaurya','Radhika']),\n",
    "             \"English\":pd.Series([89,78,89,90]),\n",
    "             \"Economics\":pd.Series([87,80,60,84]),\n",
    "             \"Informatics Practices\":pd.Series([89,78,67,90])}\n",
    "df =pd.DataFrame(Stud_Result)\n",
    "print(df)"
   ]
  },
  {
   "cell_type": "code",
   "execution_count": 42,
   "metadata": {
    "collapsed": true
   },
   "outputs": [
    {
     "name": "stdout",
     "output_type": "stream",
     "text": [
      "   Rinku  Ritu  Ajay  Pankaj  Aditya\n",
      "0     67  78.0    98      88    92.0\n",
      "1     77  58.0    87      65     NaN\n",
      "2     88   NaN    89      74    70.0\n"
     ]
    }
   ],
   "source": [
    "#Practical Implementation-23   (page no.=1.28)\n",
    "# To creating a dataframe by passing a list of dictionaries.\n",
    "\n",
    "import pandas as pd\n",
    "newstudent =[{'Rinku':67,'Ritu':78,'Ajay':98,'Pankaj':88,'Aditya':92},\n",
    "            {'Rinku':77,'Ritu':58,'Ajay':87,'Pankaj':65},\n",
    "            {'Rinku':88,'Ajay':89,'Pankaj':74,'Aditya':70}]\n",
    "\n",
    "newdf =pd.DataFrame(newstudent)\n",
    "print(newdf)"
   ]
  },
  {
   "cell_type": "code",
   "execution_count": 43,
   "metadata": {
    "collapsed": true
   },
   "outputs": [
    {
     "name": "stdout",
     "output_type": "stream",
     "text": [
      "   English  Economics  IP  Accounts\n",
      "0       67         78  75        78\n",
      "1       67         78  75        88\n",
      "2       78         67  89        90\n",
      "3       78         88  98        90\n"
     ]
    }
   ],
   "source": [
    "# Practical Implementation-24   (page no.=1.28)\n",
    "# To Create a dataframe from Numpy ndarray.\n",
    "\n",
    "import pandas as pd\n",
    "import numpy as np\n",
    "\n",
    "array = np.array([[67,78,75,78],[67,78,75,88],[78,67,89,90],[78,88,98,90]])        # Creating Numpy array\n",
    "\n",
    "column_values = ['English','Economics','IP','Accounts']                            # Creating a list of column names\n",
    "\n",
    "df = pd.DataFrame(data = array, columns = column_values)                           # Creating dataframe\n",
    "\n",
    "print(df)                                                                          # displaying dataframe"
   ]
  },
  {
   "cell_type": "code",
   "execution_count": 44,
   "metadata": {
    "collapsed": true
   },
   "outputs": [
    {
     "name": "stdout",
     "output_type": "stream",
     "text": [
      "Series generated as:\n",
      "{'Name': ['Rinku', 'Ritu', 'Ajay', 'Pankaj', 'Aditya'], 'English': [67, 78, 75, 88, 92], 'Economics': [78, 67, 89, 90, 56], 'IP': [78, 88, 99, 90, 87], 'Accounts': [77, 70, 80, 61, 86]} \n",
      "\n",
      "DataFrame for student\n",
      "     Name  English  Economics  IP  Accounts\n",
      "0   Rinku       67         78  78        77\n",
      "1    Ritu       78         67  88        70\n",
      "2    Ajay       75         89  99        80\n",
      "3  Pankaj       88         90  90        61\n",
      "4  Aditya       92         56  87        86\n"
     ]
    }
   ],
   "source": [
    "#Practical Implementation-25   (page no.=1.29)\n",
    "# To display records from the first to the third row.\n",
    "\n",
    "import pandas as pd\n",
    "student={'Name':['Rinku','Ritu','Ajay','Pankaj','Aditya'],'English':[67,78,75,88,92],'Economics':[78,67,89,90,56],'IP':[78,88,99,90,87],'Accounts':[77,70,80,61,86]}\n",
    "print(\"Series generated as:\")\n",
    "print(student,'\\n')\n",
    "\n",
    "df=pd.DataFrame(student)                # Adding the above data in a dataframe\n",
    "print(\"DataFrame for student\")\n",
    "print(df)"
   ]
  },
  {
   "cell_type": "code",
   "execution_count": 45,
   "metadata": {
    "collapsed": true
   },
   "outputs": [
    {
     "name": "stdout",
     "output_type": "stream",
     "text": [
      "        Name  English  Economics  IP  Accounts\n",
      "Sno1   Rinku       67         78  78        77\n",
      "Sno2    Ritu       78         67  88        70\n",
      "Sno3    Ajay       75         89  99        80\n",
      "Sno4  Pankaj       88         90  90        61\n",
      "Sno5  Aditya       92         56  87        86\n"
     ]
    }
   ],
   "source": [
    "# Practical Implementation-26   (page no.=1.29)\n",
    "# To create indexed dataframe using lists.\n",
    "\n",
    "df =pd.DataFrame(student,index=['Sno1','Sno2','Sno3','Sno4','Sno5'])\n",
    "print(df)"
   ]
  },
  {
   "cell_type": "code",
   "execution_count": 46,
   "metadata": {
    "collapsed": true
   },
   "outputs": [
    {
     "name": "stdout",
     "output_type": "stream",
     "text": [
      "        English  Economics  IP  Accounts\n",
      "Name                                    \n",
      "Rinku        67         78  78        77\n",
      "Ritu         78         67  88        70\n",
      "Ajay         75         89  99        80\n",
      "Pankaj       88         90  90        61\n",
      "Aditya       92         56  87        86\n"
     ]
    }
   ],
   "source": [
    "# Practical Implementation-27   (page no.=1.30)\n",
    "# To change the Index Column\n",
    "\n",
    "df.set_index(\"Name\",inplace=True)\n",
    "print(df)"
   ]
  },
  {
   "cell_type": "code",
   "execution_count": 47,
   "metadata": {
    "collapsed": true
   },
   "outputs": [
    {
     "name": "stdout",
     "output_type": "stream",
     "text": [
      "     Name  English  Economics  IP  Accounts\n",
      "0   Rinku       67         78  78        77\n",
      "1    Ritu       78         67  88        70\n",
      "2    Ajay       75         89  99        80\n",
      "3  Pankaj       88         90  90        61\n",
      "4  Aditya       92         56  87        86\n"
     ]
    }
   ],
   "source": [
    "# Practical Implementation-28   (page no.=1.30)\n",
    "# To reset Index column\n",
    "\n",
    "df.reset_index(inplace =True)\n",
    "print(df)"
   ]
  },
  {
   "cell_type": "code",
   "execution_count": 48,
   "metadata": {
    "collapsed": true
   },
   "outputs": [
    {
     "name": "stdout",
     "output_type": "stream",
     "text": [
      "   Rinku  Ritu  Ajay  Pankaj  Aditya\n",
      "0     67  78.0    98      88    92.0\n",
      "1     77  58.0    87      65     NaN\n",
      "2     88   NaN    89      74    70.0 \n",
      "\n",
      "\n",
      " Dataframe After inserting new record\n",
      "   Rinku  Ritu  Ajay  Pankaj  Aditya\n",
      "0     67  78.0    98      88    92.0\n",
      "1     77  58.0    87      65     NaN\n",
      "2     88   NaN    89      74    70.0\n",
      "3     45  56.0    67      88    99.0\n"
     ]
    }
   ],
   "source": [
    "# Adding/Modifying a Row in a DataFrame    (page no.=1.31)\n",
    "\n",
    "import pandas as pd\n",
    "newstudent =[{'Rinku':67,'Ritu':78,'Ajay':98,'Pankaj':88,'Aditya':92},\n",
    "            {'Rinku':77,'Ritu':58,'Ajay':87,'Pankaj':65},\n",
    "            {'Rinku':88,'Ajay':89,'Pankaj':74,'Aditya':70}]\n",
    "\n",
    "\n",
    "newdf=pd.DataFrame(newstudent)\n",
    "print(newdf,'\\n')\n",
    "print('\\n Dataframe After inserting new record')\n",
    "newdf.loc['3']=[45,56,67,88,99]                # new record added at location 3\n",
    "print(newdf)"
   ]
  },
  {
   "cell_type": "code",
   "execution_count": 49,
   "metadata": {
    "collapsed": true
   },
   "outputs": [
    {
     "name": "stdout",
     "output_type": "stream",
     "text": [
      "     0\n",
      "0  101\n",
      "1  102\n",
      "2  103\n",
      "3  104\n",
      "4  105 \n",
      "\n",
      "   Admno\n",
      "0    101\n",
      "1    102\n",
      "2    103\n",
      "3    104\n",
      "4    105\n"
     ]
    }
   ],
   "source": [
    "# Practical Implementation-29   (page no.=1.32)\n",
    "# To rename a column name.\n",
    "\n",
    "import pandas as pd\n",
    "al=[101,102,103,104,105]\n",
    "df=pd.DataFrame(al)\n",
    "print(df,'\\n')\n",
    "\n",
    "df.columns=['Admno']      # Renaming the column name to Admno\n",
    "print(df)"
   ]
  },
  {
   "cell_type": "code",
   "execution_count": 50,
   "metadata": {
    "collapsed": true
   },
   "outputs": [
    {
     "name": "stdout",
     "output_type": "stream",
     "text": [
      "Series Generated As:\n",
      "[['Rinku', 79, 72], ['Ritu', 75, 73], ['Ajay', 99, 98]]\n",
      "\n",
      "\n",
      "    Name  IP  BST\n",
      "0  Rinku  79   72\n",
      "1   Ritu  75   73\n",
      "2   Ajay  99   98\n",
      "\n",
      "\n",
      "      Nm  Informatics Practices  BST\n",
      "0  Rinku                     79   72\n",
      "1   Ritu                     75   73\n",
      "2   Ajay                     99   98\n"
     ]
    }
   ],
   "source": [
    "# Practical Implementation-30   (page no.=1.32)\n",
    "# Renaming columns in a dataframe\n",
    "\n",
    "import pandas as pd\n",
    "s=[['Rinku',79,72],['Ritu',75,73],['Ajay',99,98]]\n",
    "print('Series Generated As:')\n",
    "print(s)\n",
    "print('\\n')\n",
    "df=pd.DataFrame(s,columns=['Name','IP','BST'])\n",
    "print(df)\n",
    "print('\\n')\n",
    "df.rename(columns={'Name':'Nm','IP':'Informatics Practices'},inplace=True)\n",
    "print(df)"
   ]
  },
  {
   "cell_type": "code",
   "execution_count": 51,
   "metadata": {
    "collapsed": true
   },
   "outputs": [
    {
     "ename": "ValueError",
     "evalue": "Length of values does not match length of index",
     "output_type": "error",
     "traceback": [
      "\u001b[1;31m---------------------------------------------------------------------------\u001b[0m",
      "\u001b[1;31mValueError\u001b[0m                                Traceback (most recent call last)",
      "\u001b[1;32m<ipython-input-51-19a108b9857b>\u001b[0m in \u001b[0;36m<module>\u001b[1;34m\u001b[0m\n\u001b[0;32m      2\u001b[0m \u001b[1;31m# To add new column to a dataframe.\u001b[0m\u001b[1;33m\u001b[0m\u001b[1;33m\u001b[0m\u001b[1;33m\u001b[0m\u001b[0m\n\u001b[0;32m      3\u001b[0m \u001b[1;33m\u001b[0m\u001b[0m\n\u001b[1;32m----> 4\u001b[1;33m \u001b[0mdf\u001b[0m\u001b[1;33m[\u001b[0m\u001b[1;34m'Name'\u001b[0m\u001b[1;33m]\u001b[0m\u001b[1;33m=\u001b[0m\u001b[1;33m[\u001b[0m\u001b[1;34m'Shruti'\u001b[0m\u001b[1;33m,\u001b[0m\u001b[1;34m'Gunjan'\u001b[0m\u001b[1;33m,\u001b[0m\u001b[1;34m'Tanya'\u001b[0m\u001b[1;33m,\u001b[0m\u001b[1;34m'Kirti'\u001b[0m\u001b[1;33m,\u001b[0m\u001b[1;34m'Vineet'\u001b[0m\u001b[1;33m]\u001b[0m\u001b[1;33m\u001b[0m\u001b[1;33m\u001b[0m\u001b[0m\n\u001b[0m\u001b[0;32m      5\u001b[0m \u001b[0mprint\u001b[0m\u001b[1;33m(\u001b[0m\u001b[0mdf\u001b[0m\u001b[1;33m)\u001b[0m\u001b[1;33m\u001b[0m\u001b[1;33m\u001b[0m\u001b[0m\n\u001b[0;32m      6\u001b[0m \u001b[0mprint\u001b[0m\u001b[1;33m(\u001b[0m\u001b[1;34m'\\n'\u001b[0m\u001b[1;33m)\u001b[0m\u001b[1;33m\u001b[0m\u001b[1;33m\u001b[0m\u001b[0m\n",
      "\u001b[1;32mC:\\ProgramData\\Anaconda3\\lib\\site-packages\\pandas\\core\\frame.py\u001b[0m in \u001b[0;36m__setitem__\u001b[1;34m(self, key, value)\u001b[0m\n\u001b[0;32m   2936\u001b[0m         \u001b[1;32melse\u001b[0m\u001b[1;33m:\u001b[0m\u001b[1;33m\u001b[0m\u001b[1;33m\u001b[0m\u001b[0m\n\u001b[0;32m   2937\u001b[0m             \u001b[1;31m# set column\u001b[0m\u001b[1;33m\u001b[0m\u001b[1;33m\u001b[0m\u001b[1;33m\u001b[0m\u001b[0m\n\u001b[1;32m-> 2938\u001b[1;33m             \u001b[0mself\u001b[0m\u001b[1;33m.\u001b[0m\u001b[0m_set_item\u001b[0m\u001b[1;33m(\u001b[0m\u001b[0mkey\u001b[0m\u001b[1;33m,\u001b[0m \u001b[0mvalue\u001b[0m\u001b[1;33m)\u001b[0m\u001b[1;33m\u001b[0m\u001b[1;33m\u001b[0m\u001b[0m\n\u001b[0m\u001b[0;32m   2939\u001b[0m \u001b[1;33m\u001b[0m\u001b[0m\n\u001b[0;32m   2940\u001b[0m     \u001b[1;32mdef\u001b[0m \u001b[0m_setitem_slice\u001b[0m\u001b[1;33m(\u001b[0m\u001b[0mself\u001b[0m\u001b[1;33m,\u001b[0m \u001b[0mkey\u001b[0m\u001b[1;33m,\u001b[0m \u001b[0mvalue\u001b[0m\u001b[1;33m)\u001b[0m\u001b[1;33m:\u001b[0m\u001b[1;33m\u001b[0m\u001b[1;33m\u001b[0m\u001b[0m\n",
      "\u001b[1;32mC:\\ProgramData\\Anaconda3\\lib\\site-packages\\pandas\\core\\frame.py\u001b[0m in \u001b[0;36m_set_item\u001b[1;34m(self, key, value)\u001b[0m\n\u001b[0;32m   2998\u001b[0m \u001b[1;33m\u001b[0m\u001b[0m\n\u001b[0;32m   2999\u001b[0m         \u001b[0mself\u001b[0m\u001b[1;33m.\u001b[0m\u001b[0m_ensure_valid_index\u001b[0m\u001b[1;33m(\u001b[0m\u001b[0mvalue\u001b[0m\u001b[1;33m)\u001b[0m\u001b[1;33m\u001b[0m\u001b[1;33m\u001b[0m\u001b[0m\n\u001b[1;32m-> 3000\u001b[1;33m         \u001b[0mvalue\u001b[0m \u001b[1;33m=\u001b[0m \u001b[0mself\u001b[0m\u001b[1;33m.\u001b[0m\u001b[0m_sanitize_column\u001b[0m\u001b[1;33m(\u001b[0m\u001b[0mkey\u001b[0m\u001b[1;33m,\u001b[0m \u001b[0mvalue\u001b[0m\u001b[1;33m)\u001b[0m\u001b[1;33m\u001b[0m\u001b[1;33m\u001b[0m\u001b[0m\n\u001b[0m\u001b[0;32m   3001\u001b[0m         \u001b[0mNDFrame\u001b[0m\u001b[1;33m.\u001b[0m\u001b[0m_set_item\u001b[0m\u001b[1;33m(\u001b[0m\u001b[0mself\u001b[0m\u001b[1;33m,\u001b[0m \u001b[0mkey\u001b[0m\u001b[1;33m,\u001b[0m \u001b[0mvalue\u001b[0m\u001b[1;33m)\u001b[0m\u001b[1;33m\u001b[0m\u001b[1;33m\u001b[0m\u001b[0m\n\u001b[0;32m   3002\u001b[0m \u001b[1;33m\u001b[0m\u001b[0m\n",
      "\u001b[1;32mC:\\ProgramData\\Anaconda3\\lib\\site-packages\\pandas\\core\\frame.py\u001b[0m in \u001b[0;36m_sanitize_column\u001b[1;34m(self, key, value, broadcast)\u001b[0m\n\u001b[0;32m   3634\u001b[0m \u001b[1;33m\u001b[0m\u001b[0m\n\u001b[0;32m   3635\u001b[0m             \u001b[1;31m# turn me into an ndarray\u001b[0m\u001b[1;33m\u001b[0m\u001b[1;33m\u001b[0m\u001b[1;33m\u001b[0m\u001b[0m\n\u001b[1;32m-> 3636\u001b[1;33m             \u001b[0mvalue\u001b[0m \u001b[1;33m=\u001b[0m \u001b[0msanitize_index\u001b[0m\u001b[1;33m(\u001b[0m\u001b[0mvalue\u001b[0m\u001b[1;33m,\u001b[0m \u001b[0mself\u001b[0m\u001b[1;33m.\u001b[0m\u001b[0mindex\u001b[0m\u001b[1;33m,\u001b[0m \u001b[0mcopy\u001b[0m\u001b[1;33m=\u001b[0m\u001b[1;32mFalse\u001b[0m\u001b[1;33m)\u001b[0m\u001b[1;33m\u001b[0m\u001b[1;33m\u001b[0m\u001b[0m\n\u001b[0m\u001b[0;32m   3637\u001b[0m             \u001b[1;32mif\u001b[0m \u001b[1;32mnot\u001b[0m \u001b[0misinstance\u001b[0m\u001b[1;33m(\u001b[0m\u001b[0mvalue\u001b[0m\u001b[1;33m,\u001b[0m \u001b[1;33m(\u001b[0m\u001b[0mnp\u001b[0m\u001b[1;33m.\u001b[0m\u001b[0mndarray\u001b[0m\u001b[1;33m,\u001b[0m \u001b[0mIndex\u001b[0m\u001b[1;33m)\u001b[0m\u001b[1;33m)\u001b[0m\u001b[1;33m:\u001b[0m\u001b[1;33m\u001b[0m\u001b[1;33m\u001b[0m\u001b[0m\n\u001b[0;32m   3638\u001b[0m                 \u001b[1;32mif\u001b[0m \u001b[0misinstance\u001b[0m\u001b[1;33m(\u001b[0m\u001b[0mvalue\u001b[0m\u001b[1;33m,\u001b[0m \u001b[0mlist\u001b[0m\u001b[1;33m)\u001b[0m \u001b[1;32mand\u001b[0m \u001b[0mlen\u001b[0m\u001b[1;33m(\u001b[0m\u001b[0mvalue\u001b[0m\u001b[1;33m)\u001b[0m \u001b[1;33m>\u001b[0m \u001b[1;36m0\u001b[0m\u001b[1;33m:\u001b[0m\u001b[1;33m\u001b[0m\u001b[1;33m\u001b[0m\u001b[0m\n",
      "\u001b[1;32mC:\\ProgramData\\Anaconda3\\lib\\site-packages\\pandas\\core\\internals\\construction.py\u001b[0m in \u001b[0;36msanitize_index\u001b[1;34m(data, index, copy)\u001b[0m\n\u001b[0;32m    609\u001b[0m \u001b[1;33m\u001b[0m\u001b[0m\n\u001b[0;32m    610\u001b[0m     \u001b[1;32mif\u001b[0m \u001b[0mlen\u001b[0m\u001b[1;33m(\u001b[0m\u001b[0mdata\u001b[0m\u001b[1;33m)\u001b[0m \u001b[1;33m!=\u001b[0m \u001b[0mlen\u001b[0m\u001b[1;33m(\u001b[0m\u001b[0mindex\u001b[0m\u001b[1;33m)\u001b[0m\u001b[1;33m:\u001b[0m\u001b[1;33m\u001b[0m\u001b[1;33m\u001b[0m\u001b[0m\n\u001b[1;32m--> 611\u001b[1;33m         \u001b[1;32mraise\u001b[0m \u001b[0mValueError\u001b[0m\u001b[1;33m(\u001b[0m\u001b[1;34m\"Length of values does not match length of index\"\u001b[0m\u001b[1;33m)\u001b[0m\u001b[1;33m\u001b[0m\u001b[1;33m\u001b[0m\u001b[0m\n\u001b[0m\u001b[0;32m    612\u001b[0m \u001b[1;33m\u001b[0m\u001b[0m\n\u001b[0;32m    613\u001b[0m     \u001b[1;32mif\u001b[0m \u001b[0misinstance\u001b[0m\u001b[1;33m(\u001b[0m\u001b[0mdata\u001b[0m\u001b[1;33m,\u001b[0m \u001b[0mABCIndexClass\u001b[0m\u001b[1;33m)\u001b[0m \u001b[1;32mand\u001b[0m \u001b[1;32mnot\u001b[0m \u001b[0mcopy\u001b[0m\u001b[1;33m:\u001b[0m\u001b[1;33m\u001b[0m\u001b[1;33m\u001b[0m\u001b[0m\n",
      "\u001b[1;31mValueError\u001b[0m: Length of values does not match length of index"
     ]
    }
   ],
   "source": [
    "# Practical Implementation-31   (page no.=1.33)\n",
    "# To add new column to a dataframe.\n",
    "\n",
    "df['Name']=['Shruti','Gunjan','Tanya','Kirti','Vineet']\n",
    "print(df)\n",
    "print('\\n')\n",
    "df['Physics']=pd.Series([89,78,65,45,55])\n",
    "df['Chemistry']=pd.Series([77,89,74,60,56],index=[0,1,2,3,4])\n",
    "df['Maths']=pd.Series([88,65,79,78,58])\n",
    "df['Total']=df['Physics']+df['Chemistry']+df['Maths']\n",
    "print(df)\n",
    "print('\\n')\n",
    "df['Average']=df['Total']/3\n",
    "print(df)"
   ]
  },
  {
   "cell_type": "code",
   "execution_count": null,
   "metadata": {
    "collapsed": true
   },
   "outputs": [],
   "source": [
    "# Practical Implementation-32   (page no.=1.34)\n",
    "# Creating a dataframe and adding a new column to it \n",
    "\n",
    "import pandas as pd\n",
    "test= {\"Name\":['Ritu','Ajay','Manu','Rohit','Reema'],\n",
    "      \"Score\":[67,98,89,56,90],\n",
    "      \"No_attempts\":[4,1,2,1,3]}\n",
    "test_result=pd.DataFrame(test,index=['Respondent0','Respondent1','Respondent2','Respondent3','Respondent4'])\n",
    "print(test_result)\n",
    "print('\\n')\n",
    "test_result['qualify']=['NO','YES','NO','YES','YES']           # Adding a new column : qualify to test_result\n",
    "print('Dataframe after adding new column')\n",
    "print(test_result)"
   ]
  },
  {
   "cell_type": "code",
   "execution_count": null,
   "metadata": {
    "collapsed": true
   },
   "outputs": [],
   "source": [
    "# Practical Implementation-33   (page no.=1.36)\n",
    "# Selecting/Accessing Rows/Columns from a DataFrame\n",
    "\n",
    "import pandas as pd\n",
    "student= {\"Roll No\":[1,2,3,4,5],\n",
    "         \"Name\":['Rinku','Deep','Shaurya','RAdhika','Rohit'],\n",
    "         \"English\":[89,78,89,90,79],\n",
    "         \"Economics\":[87,80,60,84,77],\n",
    "         \"IP\":[89,78,67,90,92]}\n",
    "df=pd.DataFrame(student)\n",
    "print(df)\n",
    "print('\\n')\n",
    "print(df.iloc[0:3])      # Displaying row index 0 to 2\n",
    "print('\\n')\n",
    "print(df.iloc[0:3,0:3])  # Displaying contents from row index 0 to 2 and column index 0 t0 2\n",
    "print('\\n')\n",
    "print(df.loc[1:3])       # Displaying the contents of DataFrame using loc() ,  location name from 1 to 3"
   ]
  },
  {
   "cell_type": "code",
   "execution_count": null,
   "metadata": {
    "collapsed": true
   },
   "outputs": [],
   "source": [
    "# Practical Implementation-34   (page no.=1.40)\n",
    "# WAP to iterate over a dataframe containing names and marks,then calculate grades as per marks and add them to grade column.\n",
    "\n",
    "import pandas as pd\n",
    "import numpy as np\n",
    "names=pd.Series(['Sanjeev','Rajeev','Sanjay','Abhay'])\n",
    "marks=pd.Series([76,86,55,54])\n",
    "stud={'Name':names,'Marks':marks}\n",
    "df=pd.DataFrame(stud,columns=['Name','Marks'])\n",
    "df['Grade']=np.NaN                              # this will add NaN to all records of dataframe\n",
    "print(\"Intial values in DataFrame\")\n",
    "print(df)\n",
    "for (col,colSeries) in df.iteritems():\n",
    "    length=len(colSeries)\n",
    "    if col=='Marks':\n",
    "        lstMrks=[]\n",
    "        for row in range(length):\n",
    "            mrks=colSeries[row]\n",
    "            if mrks>=90:\n",
    "                lstMrks.append('A+')\n",
    "            elif mrks>=70:\n",
    "                lstMrks.append('A')\n",
    "            elif mrks>=60:\n",
    "                lstMrks.append('B')\n",
    "            elif mrks>=50:\n",
    "                lstMrks.append('C')\n",
    "            elif mrks>=40:\n",
    "                lstMrks.append('D')\n",
    "            else:\n",
    "                lstMrks.append('F')\n",
    "df['Grade']=lstMrks\n",
    "print(\"\\n\\nDataFram after calculation of Grades\")\n",
    "print(df)"
   ]
  },
  {
   "cell_type": "code",
   "execution_count": 1,
   "metadata": {},
   "outputs": [
    {
     "name": "stdout",
     "output_type": "stream",
     "text": [
      "   Unit Test-1  Unit Test-2\n",
      "0            5            7\n",
      "1            6            8\n",
      "2            8            9\n",
      "3            3            6\n",
      "4           10           15\n",
      "   Unit Test-1  Unit Test-2\n",
      "0            3            5\n",
      "1            3            9\n",
      "2            6            8\n",
      "3            6           10\n",
      "4            8            5\n",
      "Subtraction\n",
      "   Unit Test-1  Unit Test-2\n",
      "0            2            2\n",
      "1            3           -1\n",
      "2            2            1\n",
      "3           -3           -4\n",
      "4            2           10\n",
      "rsub\n",
      "   Unit Test-1  Unit Test-2\n",
      "0           -2           -2\n",
      "1           -3            1\n",
      "2           -2           -1\n",
      "3            3            4\n",
      "4           -2          -10\n",
      "Addition\n",
      "   Unit Test-1  Unit Test-2\n",
      "0            8           12\n",
      "1            9           17\n",
      "2           14           17\n",
      "3            9           16\n",
      "4           18           20\n",
      "Multiplication\n",
      "   Unit Test-1  Unit Test-2\n",
      "0           15           35\n",
      "1           18           72\n",
      "2           48           72\n",
      "3           18           60\n",
      "4           80           75\n",
      "Division\n",
      "   Unit Test-1  Unit Test-2\n",
      "0     1.666667     1.400000\n",
      "1     2.000000     0.888889\n",
      "2     1.333333     1.125000\n",
      "3     0.500000     0.600000\n",
      "4     1.250000     3.000000\n"
     ]
    }
   ],
   "source": [
    "# Practical Implementation-35   (page no.=1.41)\n",
    "# To perform binary operations ontwo dataframes.\n",
    "\n",
    "import pandas as pd\n",
    "student ={'Unit Test-1':[5,6,8,3,10],'Unit Test-2':[7,8,9,6,15]}\n",
    "student1={'Unit Test-1':[3,3,6,6,8], 'Unit Test-2':[5,9,8,10,5]}\n",
    "ds =pd.DataFrame(student)\n",
    "ds1 =pd.DataFrame(student1)\n",
    "print(ds)\n",
    "print(ds1)\n",
    "print(\"Subtraction\")\n",
    "print(ds.sub(ds1))\n",
    "print(\"rsub\")\n",
    "print(ds.rsub(ds1))\n",
    "print(\"Addition\")\n",
    "print(ds.add(ds1))\n",
    "print(\"Multiplication\")\n",
    "print(ds.mul(ds1))\n",
    "print(\"Division\")\n",
    "print(ds.div(ds1))"
   ]
  },
  {
   "cell_type": "code",
   "execution_count": null,
   "metadata": {
    "collapsed": true
   },
   "outputs": [],
   "source": [
    "# Practical Implementation-36   (page no.=1.43)\n",
    "# To perform broadcasting operation on two array of similar shape.\n",
    "\n",
    "import pandas as pd\n",
    "a=[2,5,6,7,8]\n",
    "b=[5,8,9,4,10]\n",
    "df1=pd.DataFrame(a)\n",
    "df2=pd.DataFrame(b)\n",
    "print(df1,'\\n')\n",
    "print(df2,'\\n')\n",
    "print(df1+df2)"
   ]
  },
  {
   "cell_type": "code",
   "execution_count": null,
   "metadata": {
    "collapsed": true
   },
   "outputs": [],
   "source": [
    "# Practical Implementation-37   (page no.=1.43)\n",
    "# To perform broadcasting operation using SCalar or constant value.\n",
    "\n",
    "print(df1,'\\n')\n",
    "print(df1+50)\n",
    "print('\\n')\n",
    "\n",
    "# Broadcasting using 1=D array\n",
    "import pandas as pd\n",
    "a = [[2,5,6],[5,8,9]]\n",
    "df =pd.DataFrame(a)\n",
    "print(df,'\\n')\n",
    "print(df+[10,50,100])"
   ]
  },
  {
   "cell_type": "code",
   "execution_count": null,
   "metadata": {
    "collapsed": true
   },
   "outputs": [],
   "source": [
    "# Practical Implementation-38   (page no.=1.45)\n",
    "# Comparing two series element-by-element.\n",
    "\n",
    "import pandas as pd\n",
    "a=pd.Series([1,2,7,5,4])\n",
    "b=pd.Series([4,8,9,5,10])\n",
    "print(\"First Series is: \")\n",
    "print(a)\n",
    "print(\"Second Series is: \")\n",
    "print(b)\n",
    "print(\"Comparing the elements of both the series\")\n",
    "print(\"Equals\")\n",
    "print(a == b)\n",
    "print(\"Greater than: \")\n",
    "print(a > b)\n",
    "print(\"Less than: \")\n",
    "print(a < b)\n",
    "print(\"Adding two series: \")\n",
    "c = a + b\n",
    "print(c)\n",
    "print(\"Subtracting two series: \")\n",
    "c = a - b\n",
    "print(c)\n",
    "print(\"product of two series: \")\n",
    "c = a * b\n",
    "print(c)\n",
    "print(\"Divide series1 by series2: \")\n",
    "c = a/b\n",
    "print(c)"
   ]
  },
  {
   "cell_type": "code",
   "execution_count": null,
   "metadata": {
    "collapsed": true
   },
   "outputs": [],
   "source": [
    "# Practical Implementation-39   (page no.=1.47)\n",
    "# Combining two dataframes, converted from two series.\n",
    "\n",
    "import pandas as pd\n",
    "d1 = {'roll_no': [10,11,12,13,14,15],\n",
    "     'name':['Ankit','Pihu','Rinku','Yash','Vijay','Nikhil']}\n",
    "df1 =pd.DataFrame(d1, columns =['roll_no','name'])\n",
    "print(df1)\n",
    "print('\\n')\n",
    "d2 ={'roll_no':[1,2,3,4,5,6],\n",
    "    'name':['Renu','Jatin','Deep','Guddu','Chhaya','Sahil']}\n",
    "df2 =pd.DataFrame(d2,columns = ['roll_no','name'])\n",
    "print(df2)\n"
   ]
  },
  {
   "cell_type": "code",
   "execution_count": null,
   "metadata": {
    "collapsed": true
   },
   "outputs": [],
   "source": [
    "# Practical Implementation-40   (page no.=1.49)\n",
    "# Illustrate head() and tall() methods in an Employee dataframe.\n",
    "\n",
    "import pandas as pd\n",
    "Emp_data={'Empid':[101,102,103,104,105,106],\n",
    "         'Ename':['Rohit','Pooja','Princi','Shaurya','Sonia','Vinay'],\n",
    "         'Doj':['12-01-2012','12-01-2012','05-09-2007','17-01-2012','05-09-2007','16-01-2012']}\n",
    "df =pd.DataFrame(Emp_data)\n",
    "print(df,'\\n')\n",
    "print(df.head(),'\\n')           # by default it will display first 5 rows from top\n",
    "print(df.tail(),'\\n')           # by default it will display first 5 rows from bottom\n",
    "\n",
    "print(df.head(2),'\\n')\n",
    "print(df.tail(2),'\\n')\n",
    "print(df[2:5])"
   ]
  },
  {
   "cell_type": "code",
   "execution_count": null,
   "metadata": {
    "collapsed": true
   },
   "outputs": [],
   "source": [
    "# Practical Implementation-41   (page no.=1.50)\n",
    "# Boolean indexing using dataframe\n",
    "\n",
    "import pandas as pd\n",
    "d1={'roll_no':[10,11,12,13,14,15],\n",
    "   'name':['Ankit','Pihu','Rinku','Yash','Vijay','Nikhil']}\n",
    "df1 =pd.DataFrame(d1,index=[True,False,True,True,False,True])\n",
    "print(df1,'\\n')\n",
    "print(df1.loc[True])\n",
    "print()\n",
    "print(\"iloc method displays the output as:\")\n",
    "print(df1.iloc[1])"
   ]
  },
  {
   "cell_type": "code",
   "execution_count": null,
   "metadata": {
    "collapsed": true
   },
   "outputs": [],
   "source": [
    "# Practical Implementation-42   (page no.=1.51)\n",
    "# Program to concatenate two dataframes.\n",
    "\n",
    "import pandas as pd\n",
    "d1={'roll_no':[10,11,12,13,14,15],\n",
    "   'name':['Ankit','Pihu','Rinku','Yash','Vijay','Nikhil']}\n",
    "d2={'roll_no':[20,21,22,23,24,25],\n",
    "   'name':['Shaurya','Pinky','Anubhav','Khushi','Vinay','Neetu']}\n",
    "df1=pd.DataFrame(d1)\n",
    "df2=pd.DataFrame(d2)\n",
    "df3=pd.concat([df1,df2])\n",
    "print(df3)"
   ]
  },
  {
   "cell_type": "code",
   "execution_count": null,
   "metadata": {
    "collapsed": true
   },
   "outputs": [],
   "source": [
    "# Practical Implementation-43   (page no.=1.52)\n",
    "# program to concatenate two dataframes without taking row labels\n",
    "\n",
    "import pandas as pd\n",
    "d1={'roll_no':[10,11,12,13,14,15],\n",
    "   'name':['Ankit','Pihu','Rinku','Yash','Vijay','Nikhil']}\n",
    "d2={'roll_no':[20,21,22,23,24,25],\n",
    "   'name':['Shaurya','Pinky','Anubhav','Khushi','Vinay','Neetu']}\n",
    "df1=pd.DataFrame(d1)\n",
    "df2=pd.DataFrame(d2)\n",
    "df3=pd.concat([df1,df2],ignore_index=True)\n",
    "print(df3)"
   ]
  },
  {
   "cell_type": "code",
   "execution_count": null,
   "metadata": {
    "collapsed": true
   },
   "outputs": [],
   "source": [
    "# Practical Implementation-44   (page no.=1.53)\n",
    "# program to concatenate two datagrames along columns.\n",
    "\n",
    "import pandas as pd\n",
    "d1={'roll_no':[10,11,12,13,14,15],\n",
    "   'name':['Ankit','Pihu','Rinku','Yash','Vijay','Nikhil']}\n",
    "d2={'roll_no':[20,21,22,23,24,25],\n",
    "   'name':['Shaurya','Pinky','Anubhav','Khushi','Vinay','Neetu']}\n",
    "df1=pd.DataFrame(d1)\n",
    "df2=pd.DataFrame(d2)\n",
    "df3=pd.concat([df1,df2],axis=1)\n",
    "print(df3)"
   ]
  },
  {
   "cell_type": "code",
   "execution_count": null,
   "metadata": {
    "collapsed": true
   },
   "outputs": [],
   "source": [
    "# Practical Implementation-45   (page no.=1.53)\n",
    "# program to perform merging of dataframes.\n",
    "\n",
    "import pandas as pd\n",
    "d1={'roll_no':[10,11,12,13,14,15],\n",
    "   'name':['Ankit','Pihu','Rinku','Yash','Vijay','Nikhil']}\n",
    "d2={'roll_no':[20,21,22,23,24,25],\n",
    "   'name':['Shaurya','Pinky','Anubhav','Khushi','Vinay','Neetu']}\n",
    "d3={'roll_no':[10,21,12,13,24,15],\n",
    "   'name':['Jeet','Ashima','Shivin','Kiran','Tanmay','Rajat']}\n",
    "df1=pd.DataFrame(d1)\n",
    "df2=pd.DataFrame(d2)\n",
    "df3=pd.concat([df1,df2])\n",
    "df4=pd.DataFrame(d3)\n",
    "df5=pd.merge(df3,df4,on='roll_no')\n",
    "print(df5)"
   ]
  },
  {
   "cell_type": "code",
   "execution_count": null,
   "metadata": {
    "collapsed": true
   },
   "outputs": [],
   "source": [
    "# Practical Implementation-46   (page no.=1.54)\n",
    "# program to perform merging of dataframes with uncommon columns and different names.\n",
    "\n",
    "import pandas as pd\n",
    "d1={'roll_no':[10,11,12,13,14,15],\n",
    "   'name':['Ankit','Pihu','Rinku','Yash','Vijay','Nikhil']}\n",
    "d2={'roll_no':[20,21,22,23,24,25],\n",
    "   'name':['Shaurya','Pinky','Anubhav','Khushi','Vinay','Neetu']}\n",
    "d3={'roll_no':[10,21,12,13,24,15],\n",
    "   'name':['Jeet','Ashima','Shivin','Kiran','Tanmay','Rajat']}\n",
    "df1=pd.DataFrame(d1)\n",
    "df2=pd.DataFrame(d2)\n",
    "df3=pd.concat([df1,df2])\n",
    "df4=pd.DataFrame(d3)\n",
    "df5=pd.merge(df3,df4,left_on='roll_no',right_on='roll_no')\n",
    "print(df5)"
   ]
  },
  {
   "cell_type": "code",
   "execution_count": null,
   "metadata": {
    "collapsed": true
   },
   "outputs": [],
   "source": [
    "# Practical Implementation-47   (page no.=1.57)\n",
    "# To create and open \"Employee.csv\" file using Pandas.\n",
    "\n",
    "import pandas as pd\n",
    "df =pd.read_csv(\"F:\\\\Data\\\\Employee.csv\")   #Select the proper path of you file\n",
    "print(df)"
   ]
  },
  {
   "cell_type": "code",
   "execution_count": null,
   "metadata": {
    "collapsed": true
   },
   "outputs": [],
   "source": [
    "# Practical Implementation-48   (page no.=1.58)\n",
    "# To display the shape of the CSV file\n",
    "\n",
    "import pandas as pd\n",
    "df =pd.read_csv(\"F:\\\\Data\\\\Employee.csv\")   #Select the proper path of you file\n",
    "print(df)\n",
    "print('\\n')\n",
    "print(df.shape)\n"
   ]
  },
  {
   "cell_type": "code",
   "execution_count": null,
   "metadata": {
    "collapsed": true
   },
   "outputs": [],
   "source": [
    "# Practical Implementation-49   (page no.=1.58)\n",
    "# To display name, age and salary from Employee.csv.\n",
    "\n",
    "df = pd.read_csv(\"F:\\\\Data\\\\Employee.csv\",usecols =['Name','Age','Salary'])\n",
    "print(df)"
   ]
  },
  {
   "cell_type": "code",
   "execution_count": null,
   "metadata": {
    "collapsed": true
   },
   "outputs": [],
   "source": [
    "# Practical Implementation-50   (page no.=1.59)\n",
    "# To display only 5 records from Employee.csv.\n",
    "\n",
    "import pandas as pd\n",
    "df =pd.read_csv(\"F:\\\\Data\\\\Employee.csv\",nrows = 5)\n",
    "print(df)"
   ]
  },
  {
   "cell_type": "code",
   "execution_count": null,
   "metadata": {
    "collapsed": true
   },
   "outputs": [],
   "source": [
    "# Practical Implementation-51   (page no.=1.59)\n",
    "# To diplay records without header\n",
    "\n",
    "import pandas as pd\n",
    "df =pd.read_csv(\"F:\\\\Data\\\\Employee.csv\",header =None)\n",
    "print(df)"
   ]
  },
  {
   "cell_type": "code",
   "execution_count": null,
   "metadata": {
    "collapsed": true
   },
   "outputs": [],
   "source": [
    "# Practical Implementation-52   (page no.=1.60)\n",
    "# To display records without index numbers.\n",
    "\n",
    "import pandas as pd\n",
    "df =pd.read_csv(\"F:\\\\Data\\\\Employee.csv\",index_col =0)\n",
    "print(df)"
   ]
  },
  {
   "cell_type": "code",
   "execution_count": null,
   "metadata": {
    "collapsed": true
   },
   "outputs": [],
   "source": [
    "# Practical Implementation-53   (page no.=1.60)\n",
    "# To display Employee file with new column names.\n",
    "\n",
    "import pandas as pd\n",
    "df =pd.read_csv(\"F:\\\\Data\\\\Employee.csv\",skiprows =1,\n",
    "               names =['E_id','Ename','E_age','Ecity','Esalary'])\n",
    "print(df)"
   ]
  },
  {
   "cell_type": "code",
   "execution_count": null,
   "metadata": {
    "collapsed": true
   },
   "outputs": [],
   "source": [
    "# Practical Implementation-54   (page no.=1.61)\n",
    "# To modify the salary of employee earning 16000 with NaN value.\n",
    "\n",
    "import pandas as pd\n",
    "df =pd.read_csv(\"F:\\\\Data\\\\Employee.csv\",na_values= [16000])\n",
    "print(df)"
   ]
  },
  {
   "cell_type": "code",
   "execution_count": 52,
   "metadata": {},
   "outputs": [
    {
     "ename": "FileNotFoundError",
     "evalue": "[Errno 2] File F:\\Data\\Employee.csv does not exist: 'F:\\\\Data\\\\Employee.csv'",
     "output_type": "error",
     "traceback": [
      "\u001b[1;31m---------------------------------------------------------------------------\u001b[0m",
      "\u001b[1;31mFileNotFoundError\u001b[0m                         Traceback (most recent call last)",
      "\u001b[1;32m<ipython-input-52-30e41064b632>\u001b[0m in \u001b[0;36m<module>\u001b[1;34m\u001b[0m\n\u001b[0;32m      3\u001b[0m \u001b[1;33m\u001b[0m\u001b[0m\n\u001b[0;32m      4\u001b[0m \u001b[1;32mimport\u001b[0m \u001b[0mpandas\u001b[0m \u001b[1;32mas\u001b[0m \u001b[0mpd\u001b[0m\u001b[1;33m\u001b[0m\u001b[1;33m\u001b[0m\u001b[0m\n\u001b[1;32m----> 5\u001b[1;33m \u001b[0mdf\u001b[0m \u001b[1;33m=\u001b[0m\u001b[0mpd\u001b[0m\u001b[1;33m.\u001b[0m\u001b[0mread_csv\u001b[0m\u001b[1;33m(\u001b[0m\u001b[1;34m\"F:\\\\Data\\\\Employee.csv\"\u001b[0m\u001b[1;33m)\u001b[0m\u001b[1;33m\u001b[0m\u001b[1;33m\u001b[0m\u001b[0m\n\u001b[0m\u001b[0;32m      6\u001b[0m \u001b[0mdf\u001b[0m\u001b[1;33m.\u001b[0m\u001b[0mto_csv\u001b[0m\u001b[1;33m(\u001b[0m\u001b[1;34m\"F:\\\\Data\\\\Empnew.csv\"\u001b[0m\u001b[1;33m)\u001b[0m\u001b[1;33m\u001b[0m\u001b[1;33m\u001b[0m\u001b[0m\n\u001b[0;32m      7\u001b[0m \u001b[0mprint\u001b[0m\u001b[1;33m(\u001b[0m\u001b[0mdf\u001b[0m\u001b[1;33m)\u001b[0m\u001b[1;33m\u001b[0m\u001b[1;33m\u001b[0m\u001b[0m\n",
      "\u001b[1;32mC:\\ProgramData\\Anaconda3\\lib\\site-packages\\pandas\\io\\parsers.py\u001b[0m in \u001b[0;36mparser_f\u001b[1;34m(filepath_or_buffer, sep, delimiter, header, names, index_col, usecols, squeeze, prefix, mangle_dupe_cols, dtype, engine, converters, true_values, false_values, skipinitialspace, skiprows, skipfooter, nrows, na_values, keep_default_na, na_filter, verbose, skip_blank_lines, parse_dates, infer_datetime_format, keep_date_col, date_parser, dayfirst, cache_dates, iterator, chunksize, compression, thousands, decimal, lineterminator, quotechar, quoting, doublequote, escapechar, comment, encoding, dialect, error_bad_lines, warn_bad_lines, delim_whitespace, low_memory, memory_map, float_precision)\u001b[0m\n\u001b[0;32m    674\u001b[0m         )\n\u001b[0;32m    675\u001b[0m \u001b[1;33m\u001b[0m\u001b[0m\n\u001b[1;32m--> 676\u001b[1;33m         \u001b[1;32mreturn\u001b[0m \u001b[0m_read\u001b[0m\u001b[1;33m(\u001b[0m\u001b[0mfilepath_or_buffer\u001b[0m\u001b[1;33m,\u001b[0m \u001b[0mkwds\u001b[0m\u001b[1;33m)\u001b[0m\u001b[1;33m\u001b[0m\u001b[1;33m\u001b[0m\u001b[0m\n\u001b[0m\u001b[0;32m    677\u001b[0m \u001b[1;33m\u001b[0m\u001b[0m\n\u001b[0;32m    678\u001b[0m     \u001b[0mparser_f\u001b[0m\u001b[1;33m.\u001b[0m\u001b[0m__name__\u001b[0m \u001b[1;33m=\u001b[0m \u001b[0mname\u001b[0m\u001b[1;33m\u001b[0m\u001b[1;33m\u001b[0m\u001b[0m\n",
      "\u001b[1;32mC:\\ProgramData\\Anaconda3\\lib\\site-packages\\pandas\\io\\parsers.py\u001b[0m in \u001b[0;36m_read\u001b[1;34m(filepath_or_buffer, kwds)\u001b[0m\n\u001b[0;32m    446\u001b[0m \u001b[1;33m\u001b[0m\u001b[0m\n\u001b[0;32m    447\u001b[0m     \u001b[1;31m# Create the parser.\u001b[0m\u001b[1;33m\u001b[0m\u001b[1;33m\u001b[0m\u001b[1;33m\u001b[0m\u001b[0m\n\u001b[1;32m--> 448\u001b[1;33m     \u001b[0mparser\u001b[0m \u001b[1;33m=\u001b[0m \u001b[0mTextFileReader\u001b[0m\u001b[1;33m(\u001b[0m\u001b[0mfp_or_buf\u001b[0m\u001b[1;33m,\u001b[0m \u001b[1;33m**\u001b[0m\u001b[0mkwds\u001b[0m\u001b[1;33m)\u001b[0m\u001b[1;33m\u001b[0m\u001b[1;33m\u001b[0m\u001b[0m\n\u001b[0m\u001b[0;32m    449\u001b[0m \u001b[1;33m\u001b[0m\u001b[0m\n\u001b[0;32m    450\u001b[0m     \u001b[1;32mif\u001b[0m \u001b[0mchunksize\u001b[0m \u001b[1;32mor\u001b[0m \u001b[0miterator\u001b[0m\u001b[1;33m:\u001b[0m\u001b[1;33m\u001b[0m\u001b[1;33m\u001b[0m\u001b[0m\n",
      "\u001b[1;32mC:\\ProgramData\\Anaconda3\\lib\\site-packages\\pandas\\io\\parsers.py\u001b[0m in \u001b[0;36m__init__\u001b[1;34m(self, f, engine, **kwds)\u001b[0m\n\u001b[0;32m    878\u001b[0m             \u001b[0mself\u001b[0m\u001b[1;33m.\u001b[0m\u001b[0moptions\u001b[0m\u001b[1;33m[\u001b[0m\u001b[1;34m\"has_index_names\"\u001b[0m\u001b[1;33m]\u001b[0m \u001b[1;33m=\u001b[0m \u001b[0mkwds\u001b[0m\u001b[1;33m[\u001b[0m\u001b[1;34m\"has_index_names\"\u001b[0m\u001b[1;33m]\u001b[0m\u001b[1;33m\u001b[0m\u001b[1;33m\u001b[0m\u001b[0m\n\u001b[0;32m    879\u001b[0m \u001b[1;33m\u001b[0m\u001b[0m\n\u001b[1;32m--> 880\u001b[1;33m         \u001b[0mself\u001b[0m\u001b[1;33m.\u001b[0m\u001b[0m_make_engine\u001b[0m\u001b[1;33m(\u001b[0m\u001b[0mself\u001b[0m\u001b[1;33m.\u001b[0m\u001b[0mengine\u001b[0m\u001b[1;33m)\u001b[0m\u001b[1;33m\u001b[0m\u001b[1;33m\u001b[0m\u001b[0m\n\u001b[0m\u001b[0;32m    881\u001b[0m \u001b[1;33m\u001b[0m\u001b[0m\n\u001b[0;32m    882\u001b[0m     \u001b[1;32mdef\u001b[0m \u001b[0mclose\u001b[0m\u001b[1;33m(\u001b[0m\u001b[0mself\u001b[0m\u001b[1;33m)\u001b[0m\u001b[1;33m:\u001b[0m\u001b[1;33m\u001b[0m\u001b[1;33m\u001b[0m\u001b[0m\n",
      "\u001b[1;32mC:\\ProgramData\\Anaconda3\\lib\\site-packages\\pandas\\io\\parsers.py\u001b[0m in \u001b[0;36m_make_engine\u001b[1;34m(self, engine)\u001b[0m\n\u001b[0;32m   1112\u001b[0m     \u001b[1;32mdef\u001b[0m \u001b[0m_make_engine\u001b[0m\u001b[1;33m(\u001b[0m\u001b[0mself\u001b[0m\u001b[1;33m,\u001b[0m \u001b[0mengine\u001b[0m\u001b[1;33m=\u001b[0m\u001b[1;34m\"c\"\u001b[0m\u001b[1;33m)\u001b[0m\u001b[1;33m:\u001b[0m\u001b[1;33m\u001b[0m\u001b[1;33m\u001b[0m\u001b[0m\n\u001b[0;32m   1113\u001b[0m         \u001b[1;32mif\u001b[0m \u001b[0mengine\u001b[0m \u001b[1;33m==\u001b[0m \u001b[1;34m\"c\"\u001b[0m\u001b[1;33m:\u001b[0m\u001b[1;33m\u001b[0m\u001b[1;33m\u001b[0m\u001b[0m\n\u001b[1;32m-> 1114\u001b[1;33m             \u001b[0mself\u001b[0m\u001b[1;33m.\u001b[0m\u001b[0m_engine\u001b[0m \u001b[1;33m=\u001b[0m \u001b[0mCParserWrapper\u001b[0m\u001b[1;33m(\u001b[0m\u001b[0mself\u001b[0m\u001b[1;33m.\u001b[0m\u001b[0mf\u001b[0m\u001b[1;33m,\u001b[0m \u001b[1;33m**\u001b[0m\u001b[0mself\u001b[0m\u001b[1;33m.\u001b[0m\u001b[0moptions\u001b[0m\u001b[1;33m)\u001b[0m\u001b[1;33m\u001b[0m\u001b[1;33m\u001b[0m\u001b[0m\n\u001b[0m\u001b[0;32m   1115\u001b[0m         \u001b[1;32melse\u001b[0m\u001b[1;33m:\u001b[0m\u001b[1;33m\u001b[0m\u001b[1;33m\u001b[0m\u001b[0m\n\u001b[0;32m   1116\u001b[0m             \u001b[1;32mif\u001b[0m \u001b[0mengine\u001b[0m \u001b[1;33m==\u001b[0m \u001b[1;34m\"python\"\u001b[0m\u001b[1;33m:\u001b[0m\u001b[1;33m\u001b[0m\u001b[1;33m\u001b[0m\u001b[0m\n",
      "\u001b[1;32mC:\\ProgramData\\Anaconda3\\lib\\site-packages\\pandas\\io\\parsers.py\u001b[0m in \u001b[0;36m__init__\u001b[1;34m(self, src, **kwds)\u001b[0m\n\u001b[0;32m   1889\u001b[0m         \u001b[0mkwds\u001b[0m\u001b[1;33m[\u001b[0m\u001b[1;34m\"usecols\"\u001b[0m\u001b[1;33m]\u001b[0m \u001b[1;33m=\u001b[0m \u001b[0mself\u001b[0m\u001b[1;33m.\u001b[0m\u001b[0musecols\u001b[0m\u001b[1;33m\u001b[0m\u001b[1;33m\u001b[0m\u001b[0m\n\u001b[0;32m   1890\u001b[0m \u001b[1;33m\u001b[0m\u001b[0m\n\u001b[1;32m-> 1891\u001b[1;33m         \u001b[0mself\u001b[0m\u001b[1;33m.\u001b[0m\u001b[0m_reader\u001b[0m \u001b[1;33m=\u001b[0m \u001b[0mparsers\u001b[0m\u001b[1;33m.\u001b[0m\u001b[0mTextReader\u001b[0m\u001b[1;33m(\u001b[0m\u001b[0msrc\u001b[0m\u001b[1;33m,\u001b[0m \u001b[1;33m**\u001b[0m\u001b[0mkwds\u001b[0m\u001b[1;33m)\u001b[0m\u001b[1;33m\u001b[0m\u001b[1;33m\u001b[0m\u001b[0m\n\u001b[0m\u001b[0;32m   1892\u001b[0m         \u001b[0mself\u001b[0m\u001b[1;33m.\u001b[0m\u001b[0munnamed_cols\u001b[0m \u001b[1;33m=\u001b[0m \u001b[0mself\u001b[0m\u001b[1;33m.\u001b[0m\u001b[0m_reader\u001b[0m\u001b[1;33m.\u001b[0m\u001b[0munnamed_cols\u001b[0m\u001b[1;33m\u001b[0m\u001b[1;33m\u001b[0m\u001b[0m\n\u001b[0;32m   1893\u001b[0m \u001b[1;33m\u001b[0m\u001b[0m\n",
      "\u001b[1;32mpandas\\_libs\\parsers.pyx\u001b[0m in \u001b[0;36mpandas._libs.parsers.TextReader.__cinit__\u001b[1;34m()\u001b[0m\n",
      "\u001b[1;32mpandas\\_libs\\parsers.pyx\u001b[0m in \u001b[0;36mpandas._libs.parsers.TextReader._setup_parser_source\u001b[1;34m()\u001b[0m\n",
      "\u001b[1;31mFileNotFoundError\u001b[0m: [Errno 2] File F:\\Data\\Employee.csv does not exist: 'F:\\\\Data\\\\Employee.csv'"
     ]
    }
   ],
   "source": [
    "# Practical Implementation-55   (page no.=1.62)\n",
    "# To create a new CSV file by copying the contents of Employee.csv.\n",
    "\n",
    "import pandas as pd\n",
    "df =pd.read_csv(\"F:\\\\Data\\\\Employee.csv\")\n",
    "df.to_csv(\"F:\\\\Data\\\\Empnew.csv\")\n",
    "print(df)"
   ]
  },
  {
   "cell_type": "code",
   "execution_count": 53,
   "metadata": {},
   "outputs": [
    {
     "ename": "FileNotFoundError",
     "evalue": "[Errno 2] No such file or directory: 'F:\\\\Data\\\\Student.csv'",
     "output_type": "error",
     "traceback": [
      "\u001b[1;31m---------------------------------------------------------------------------\u001b[0m",
      "\u001b[1;31mFileNotFoundError\u001b[0m                         Traceback (most recent call last)",
      "\u001b[1;32m<ipython-input-53-025e0d19404d>\u001b[0m in \u001b[0;36m<module>\u001b[1;34m\u001b[0m\n\u001b[0;32m     11\u001b[0m \u001b[0mdf\u001b[0m \u001b[1;33m=\u001b[0m\u001b[0mpd\u001b[0m\u001b[1;33m.\u001b[0m\u001b[0mDataFrame\u001b[0m\u001b[1;33m(\u001b[0m\u001b[0mStudent\u001b[0m\u001b[1;33m,\u001b[0m\u001b[0mcolumns\u001b[0m \u001b[1;33m=\u001b[0m\u001b[1;33m[\u001b[0m\u001b[1;34m'RollNo'\u001b[0m\u001b[1;33m,\u001b[0m\u001b[1;34m'StudName'\u001b[0m\u001b[1;33m,\u001b[0m\u001b[1;34m'Marks'\u001b[0m\u001b[1;33m,\u001b[0m\u001b[1;34m'Class'\u001b[0m\u001b[1;33m]\u001b[0m\u001b[1;33m)\u001b[0m\u001b[1;33m\u001b[0m\u001b[1;33m\u001b[0m\u001b[0m\n\u001b[0;32m     12\u001b[0m \u001b[1;33m\u001b[0m\u001b[0m\n\u001b[1;32m---> 13\u001b[1;33m \u001b[0mdf\u001b[0m\u001b[1;33m.\u001b[0m\u001b[0mto_csv\u001b[0m\u001b[1;33m(\u001b[0m\u001b[1;34m\"F:\\\\Data\\\\Student.csv\"\u001b[0m\u001b[1;33m)\u001b[0m\u001b[1;33m\u001b[0m\u001b[1;33m\u001b[0m\u001b[0m\n\u001b[0m",
      "\u001b[1;32mC:\\ProgramData\\Anaconda3\\lib\\site-packages\\pandas\\core\\generic.py\u001b[0m in \u001b[0;36mto_csv\u001b[1;34m(self, path_or_buf, sep, na_rep, float_format, columns, header, index, index_label, mode, encoding, compression, quoting, quotechar, line_terminator, chunksize, date_format, doublequote, escapechar, decimal)\u001b[0m\n\u001b[0;32m   3202\u001b[0m             \u001b[0mdecimal\u001b[0m\u001b[1;33m=\u001b[0m\u001b[0mdecimal\u001b[0m\u001b[1;33m,\u001b[0m\u001b[1;33m\u001b[0m\u001b[1;33m\u001b[0m\u001b[0m\n\u001b[0;32m   3203\u001b[0m         )\n\u001b[1;32m-> 3204\u001b[1;33m         \u001b[0mformatter\u001b[0m\u001b[1;33m.\u001b[0m\u001b[0msave\u001b[0m\u001b[1;33m(\u001b[0m\u001b[1;33m)\u001b[0m\u001b[1;33m\u001b[0m\u001b[1;33m\u001b[0m\u001b[0m\n\u001b[0m\u001b[0;32m   3205\u001b[0m \u001b[1;33m\u001b[0m\u001b[0m\n\u001b[0;32m   3206\u001b[0m         \u001b[1;32mif\u001b[0m \u001b[0mpath_or_buf\u001b[0m \u001b[1;32mis\u001b[0m \u001b[1;32mNone\u001b[0m\u001b[1;33m:\u001b[0m\u001b[1;33m\u001b[0m\u001b[1;33m\u001b[0m\u001b[0m\n",
      "\u001b[1;32mC:\\ProgramData\\Anaconda3\\lib\\site-packages\\pandas\\io\\formats\\csvs.py\u001b[0m in \u001b[0;36msave\u001b[1;34m(self)\u001b[0m\n\u001b[0;32m    182\u001b[0m             \u001b[0mclose\u001b[0m \u001b[1;33m=\u001b[0m \u001b[1;32mFalse\u001b[0m\u001b[1;33m\u001b[0m\u001b[1;33m\u001b[0m\u001b[0m\n\u001b[0;32m    183\u001b[0m         \u001b[1;32melse\u001b[0m\u001b[1;33m:\u001b[0m\u001b[1;33m\u001b[0m\u001b[1;33m\u001b[0m\u001b[0m\n\u001b[1;32m--> 184\u001b[1;33m             f, handles = get_handle(\n\u001b[0m\u001b[0;32m    185\u001b[0m                 \u001b[0mself\u001b[0m\u001b[1;33m.\u001b[0m\u001b[0mpath_or_buf\u001b[0m\u001b[1;33m,\u001b[0m\u001b[1;33m\u001b[0m\u001b[1;33m\u001b[0m\u001b[0m\n\u001b[0;32m    186\u001b[0m                 \u001b[0mself\u001b[0m\u001b[1;33m.\u001b[0m\u001b[0mmode\u001b[0m\u001b[1;33m,\u001b[0m\u001b[1;33m\u001b[0m\u001b[1;33m\u001b[0m\u001b[0m\n",
      "\u001b[1;32mC:\\ProgramData\\Anaconda3\\lib\\site-packages\\pandas\\io\\common.py\u001b[0m in \u001b[0;36mget_handle\u001b[1;34m(path_or_buf, mode, encoding, compression, memory_map, is_text)\u001b[0m\n\u001b[0;32m    426\u001b[0m         \u001b[1;32mif\u001b[0m \u001b[0mencoding\u001b[0m\u001b[1;33m:\u001b[0m\u001b[1;33m\u001b[0m\u001b[1;33m\u001b[0m\u001b[0m\n\u001b[0;32m    427\u001b[0m             \u001b[1;31m# Encoding\u001b[0m\u001b[1;33m\u001b[0m\u001b[1;33m\u001b[0m\u001b[1;33m\u001b[0m\u001b[0m\n\u001b[1;32m--> 428\u001b[1;33m             \u001b[0mf\u001b[0m \u001b[1;33m=\u001b[0m \u001b[0mopen\u001b[0m\u001b[1;33m(\u001b[0m\u001b[0mpath_or_buf\u001b[0m\u001b[1;33m,\u001b[0m \u001b[0mmode\u001b[0m\u001b[1;33m,\u001b[0m \u001b[0mencoding\u001b[0m\u001b[1;33m=\u001b[0m\u001b[0mencoding\u001b[0m\u001b[1;33m,\u001b[0m \u001b[0mnewline\u001b[0m\u001b[1;33m=\u001b[0m\u001b[1;34m\"\"\u001b[0m\u001b[1;33m)\u001b[0m\u001b[1;33m\u001b[0m\u001b[1;33m\u001b[0m\u001b[0m\n\u001b[0m\u001b[0;32m    429\u001b[0m         \u001b[1;32melif\u001b[0m \u001b[0mis_text\u001b[0m\u001b[1;33m:\u001b[0m\u001b[1;33m\u001b[0m\u001b[1;33m\u001b[0m\u001b[0m\n\u001b[0;32m    430\u001b[0m             \u001b[1;31m# No explicit encoding\u001b[0m\u001b[1;33m\u001b[0m\u001b[1;33m\u001b[0m\u001b[1;33m\u001b[0m\u001b[0m\n",
      "\u001b[1;31mFileNotFoundError\u001b[0m: [Errno 2] No such file or directory: 'F:\\\\Data\\\\Student.csv'"
     ]
    }
   ],
   "source": [
    "# Practical Implementation-56   (page no.=1.62)\n",
    "# To create a student CSV file from dataframe.\n",
    "\n",
    "Student ={'RollNO':[1,2,3,4,5,6],\n",
    "         'StudName':['Teena','Rinku','Payal','Akshay','Garvit','Yogesh'],\n",
    "          'Marks':[90,78,88,89,77,97],\n",
    "          'Class':['11A','11B','11C','11A','11D','11E']}\n",
    "\n",
    "import pandas as pd\n",
    "\n",
    "df =pd.DataFrame(Student,columns =['RollNo','StudName','Marks','Class'])\n",
    "\n",
    "df.to_csv(\"F:\\\\Data\\\\Student.csv\")"
   ]
  },
  {
   "cell_type": "code",
   "execution_count": null,
   "metadata": {
    "collapsed": true
   },
   "outputs": [],
   "source": [
    "# Our next step is to read the Student.csv into a dataframe using read_csv() method.   (page no. 1.63)\n",
    "\n",
    "df.to_csv(\"F:\\\\Data\\\\Student.csv\")\n",
    "\n",
    "df =pd.read_csv(\"F:\\\\Data\\\\Student.csv\")\n",
    "\n",
    "print(df)"
   ]
  },
  {
   "cell_type": "code",
   "execution_count": 54,
   "metadata": {},
   "outputs": [
    {
     "ename": "FileNotFoundError",
     "evalue": "[Errno 2] File F:\\Data\\Student.csv does not exist: 'F:\\\\Data\\\\Student.csv'",
     "output_type": "error",
     "traceback": [
      "\u001b[1;31m---------------------------------------------------------------------------\u001b[0m",
      "\u001b[1;31mFileNotFoundError\u001b[0m                         Traceback (most recent call last)",
      "\u001b[1;32m<ipython-input-54-1c545d6f9ade>\u001b[0m in \u001b[0;36m<module>\u001b[1;34m\u001b[0m\n\u001b[0;32m      2\u001b[0m \u001b[1;31m# use attribute \"index_col=0\" with read_csv()\u001b[0m\u001b[1;33m\u001b[0m\u001b[1;33m\u001b[0m\u001b[1;33m\u001b[0m\u001b[0m\n\u001b[0;32m      3\u001b[0m \u001b[1;33m\u001b[0m\u001b[0m\n\u001b[1;32m----> 4\u001b[1;33m \u001b[0mdf\u001b[0m \u001b[1;33m=\u001b[0m\u001b[0mpd\u001b[0m\u001b[1;33m.\u001b[0m\u001b[0mread_csv\u001b[0m\u001b[1;33m(\u001b[0m\u001b[1;34m\"F:\\\\Data\\\\Student.csv\"\u001b[0m\u001b[1;33m,\u001b[0m\u001b[0mindex_col\u001b[0m \u001b[1;33m=\u001b[0m\u001b[1;36m0\u001b[0m\u001b[1;33m)\u001b[0m\u001b[1;33m\u001b[0m\u001b[1;33m\u001b[0m\u001b[0m\n\u001b[0m\u001b[0;32m      5\u001b[0m \u001b[0mprint\u001b[0m\u001b[1;33m(\u001b[0m\u001b[0mdf\u001b[0m\u001b[1;33m)\u001b[0m\u001b[1;33m\u001b[0m\u001b[1;33m\u001b[0m\u001b[0m\n",
      "\u001b[1;32mC:\\ProgramData\\Anaconda3\\lib\\site-packages\\pandas\\io\\parsers.py\u001b[0m in \u001b[0;36mparser_f\u001b[1;34m(filepath_or_buffer, sep, delimiter, header, names, index_col, usecols, squeeze, prefix, mangle_dupe_cols, dtype, engine, converters, true_values, false_values, skipinitialspace, skiprows, skipfooter, nrows, na_values, keep_default_na, na_filter, verbose, skip_blank_lines, parse_dates, infer_datetime_format, keep_date_col, date_parser, dayfirst, cache_dates, iterator, chunksize, compression, thousands, decimal, lineterminator, quotechar, quoting, doublequote, escapechar, comment, encoding, dialect, error_bad_lines, warn_bad_lines, delim_whitespace, low_memory, memory_map, float_precision)\u001b[0m\n\u001b[0;32m    674\u001b[0m         )\n\u001b[0;32m    675\u001b[0m \u001b[1;33m\u001b[0m\u001b[0m\n\u001b[1;32m--> 676\u001b[1;33m         \u001b[1;32mreturn\u001b[0m \u001b[0m_read\u001b[0m\u001b[1;33m(\u001b[0m\u001b[0mfilepath_or_buffer\u001b[0m\u001b[1;33m,\u001b[0m \u001b[0mkwds\u001b[0m\u001b[1;33m)\u001b[0m\u001b[1;33m\u001b[0m\u001b[1;33m\u001b[0m\u001b[0m\n\u001b[0m\u001b[0;32m    677\u001b[0m \u001b[1;33m\u001b[0m\u001b[0m\n\u001b[0;32m    678\u001b[0m     \u001b[0mparser_f\u001b[0m\u001b[1;33m.\u001b[0m\u001b[0m__name__\u001b[0m \u001b[1;33m=\u001b[0m \u001b[0mname\u001b[0m\u001b[1;33m\u001b[0m\u001b[1;33m\u001b[0m\u001b[0m\n",
      "\u001b[1;32mC:\\ProgramData\\Anaconda3\\lib\\site-packages\\pandas\\io\\parsers.py\u001b[0m in \u001b[0;36m_read\u001b[1;34m(filepath_or_buffer, kwds)\u001b[0m\n\u001b[0;32m    446\u001b[0m \u001b[1;33m\u001b[0m\u001b[0m\n\u001b[0;32m    447\u001b[0m     \u001b[1;31m# Create the parser.\u001b[0m\u001b[1;33m\u001b[0m\u001b[1;33m\u001b[0m\u001b[1;33m\u001b[0m\u001b[0m\n\u001b[1;32m--> 448\u001b[1;33m     \u001b[0mparser\u001b[0m \u001b[1;33m=\u001b[0m \u001b[0mTextFileReader\u001b[0m\u001b[1;33m(\u001b[0m\u001b[0mfp_or_buf\u001b[0m\u001b[1;33m,\u001b[0m \u001b[1;33m**\u001b[0m\u001b[0mkwds\u001b[0m\u001b[1;33m)\u001b[0m\u001b[1;33m\u001b[0m\u001b[1;33m\u001b[0m\u001b[0m\n\u001b[0m\u001b[0;32m    449\u001b[0m \u001b[1;33m\u001b[0m\u001b[0m\n\u001b[0;32m    450\u001b[0m     \u001b[1;32mif\u001b[0m \u001b[0mchunksize\u001b[0m \u001b[1;32mor\u001b[0m \u001b[0miterator\u001b[0m\u001b[1;33m:\u001b[0m\u001b[1;33m\u001b[0m\u001b[1;33m\u001b[0m\u001b[0m\n",
      "\u001b[1;32mC:\\ProgramData\\Anaconda3\\lib\\site-packages\\pandas\\io\\parsers.py\u001b[0m in \u001b[0;36m__init__\u001b[1;34m(self, f, engine, **kwds)\u001b[0m\n\u001b[0;32m    878\u001b[0m             \u001b[0mself\u001b[0m\u001b[1;33m.\u001b[0m\u001b[0moptions\u001b[0m\u001b[1;33m[\u001b[0m\u001b[1;34m\"has_index_names\"\u001b[0m\u001b[1;33m]\u001b[0m \u001b[1;33m=\u001b[0m \u001b[0mkwds\u001b[0m\u001b[1;33m[\u001b[0m\u001b[1;34m\"has_index_names\"\u001b[0m\u001b[1;33m]\u001b[0m\u001b[1;33m\u001b[0m\u001b[1;33m\u001b[0m\u001b[0m\n\u001b[0;32m    879\u001b[0m \u001b[1;33m\u001b[0m\u001b[0m\n\u001b[1;32m--> 880\u001b[1;33m         \u001b[0mself\u001b[0m\u001b[1;33m.\u001b[0m\u001b[0m_make_engine\u001b[0m\u001b[1;33m(\u001b[0m\u001b[0mself\u001b[0m\u001b[1;33m.\u001b[0m\u001b[0mengine\u001b[0m\u001b[1;33m)\u001b[0m\u001b[1;33m\u001b[0m\u001b[1;33m\u001b[0m\u001b[0m\n\u001b[0m\u001b[0;32m    881\u001b[0m \u001b[1;33m\u001b[0m\u001b[0m\n\u001b[0;32m    882\u001b[0m     \u001b[1;32mdef\u001b[0m \u001b[0mclose\u001b[0m\u001b[1;33m(\u001b[0m\u001b[0mself\u001b[0m\u001b[1;33m)\u001b[0m\u001b[1;33m:\u001b[0m\u001b[1;33m\u001b[0m\u001b[1;33m\u001b[0m\u001b[0m\n",
      "\u001b[1;32mC:\\ProgramData\\Anaconda3\\lib\\site-packages\\pandas\\io\\parsers.py\u001b[0m in \u001b[0;36m_make_engine\u001b[1;34m(self, engine)\u001b[0m\n\u001b[0;32m   1112\u001b[0m     \u001b[1;32mdef\u001b[0m \u001b[0m_make_engine\u001b[0m\u001b[1;33m(\u001b[0m\u001b[0mself\u001b[0m\u001b[1;33m,\u001b[0m \u001b[0mengine\u001b[0m\u001b[1;33m=\u001b[0m\u001b[1;34m\"c\"\u001b[0m\u001b[1;33m)\u001b[0m\u001b[1;33m:\u001b[0m\u001b[1;33m\u001b[0m\u001b[1;33m\u001b[0m\u001b[0m\n\u001b[0;32m   1113\u001b[0m         \u001b[1;32mif\u001b[0m \u001b[0mengine\u001b[0m \u001b[1;33m==\u001b[0m \u001b[1;34m\"c\"\u001b[0m\u001b[1;33m:\u001b[0m\u001b[1;33m\u001b[0m\u001b[1;33m\u001b[0m\u001b[0m\n\u001b[1;32m-> 1114\u001b[1;33m             \u001b[0mself\u001b[0m\u001b[1;33m.\u001b[0m\u001b[0m_engine\u001b[0m \u001b[1;33m=\u001b[0m \u001b[0mCParserWrapper\u001b[0m\u001b[1;33m(\u001b[0m\u001b[0mself\u001b[0m\u001b[1;33m.\u001b[0m\u001b[0mf\u001b[0m\u001b[1;33m,\u001b[0m \u001b[1;33m**\u001b[0m\u001b[0mself\u001b[0m\u001b[1;33m.\u001b[0m\u001b[0moptions\u001b[0m\u001b[1;33m)\u001b[0m\u001b[1;33m\u001b[0m\u001b[1;33m\u001b[0m\u001b[0m\n\u001b[0m\u001b[0;32m   1115\u001b[0m         \u001b[1;32melse\u001b[0m\u001b[1;33m:\u001b[0m\u001b[1;33m\u001b[0m\u001b[1;33m\u001b[0m\u001b[0m\n\u001b[0;32m   1116\u001b[0m             \u001b[1;32mif\u001b[0m \u001b[0mengine\u001b[0m \u001b[1;33m==\u001b[0m \u001b[1;34m\"python\"\u001b[0m\u001b[1;33m:\u001b[0m\u001b[1;33m\u001b[0m\u001b[1;33m\u001b[0m\u001b[0m\n",
      "\u001b[1;32mC:\\ProgramData\\Anaconda3\\lib\\site-packages\\pandas\\io\\parsers.py\u001b[0m in \u001b[0;36m__init__\u001b[1;34m(self, src, **kwds)\u001b[0m\n\u001b[0;32m   1889\u001b[0m         \u001b[0mkwds\u001b[0m\u001b[1;33m[\u001b[0m\u001b[1;34m\"usecols\"\u001b[0m\u001b[1;33m]\u001b[0m \u001b[1;33m=\u001b[0m \u001b[0mself\u001b[0m\u001b[1;33m.\u001b[0m\u001b[0musecols\u001b[0m\u001b[1;33m\u001b[0m\u001b[1;33m\u001b[0m\u001b[0m\n\u001b[0;32m   1890\u001b[0m \u001b[1;33m\u001b[0m\u001b[0m\n\u001b[1;32m-> 1891\u001b[1;33m         \u001b[0mself\u001b[0m\u001b[1;33m.\u001b[0m\u001b[0m_reader\u001b[0m \u001b[1;33m=\u001b[0m \u001b[0mparsers\u001b[0m\u001b[1;33m.\u001b[0m\u001b[0mTextReader\u001b[0m\u001b[1;33m(\u001b[0m\u001b[0msrc\u001b[0m\u001b[1;33m,\u001b[0m \u001b[1;33m**\u001b[0m\u001b[0mkwds\u001b[0m\u001b[1;33m)\u001b[0m\u001b[1;33m\u001b[0m\u001b[1;33m\u001b[0m\u001b[0m\n\u001b[0m\u001b[0;32m   1892\u001b[0m         \u001b[0mself\u001b[0m\u001b[1;33m.\u001b[0m\u001b[0munnamed_cols\u001b[0m \u001b[1;33m=\u001b[0m \u001b[0mself\u001b[0m\u001b[1;33m.\u001b[0m\u001b[0m_reader\u001b[0m\u001b[1;33m.\u001b[0m\u001b[0munnamed_cols\u001b[0m\u001b[1;33m\u001b[0m\u001b[1;33m\u001b[0m\u001b[0m\n\u001b[0;32m   1893\u001b[0m \u001b[1;33m\u001b[0m\u001b[0m\n",
      "\u001b[1;32mpandas\\_libs\\parsers.pyx\u001b[0m in \u001b[0;36mpandas._libs.parsers.TextReader.__cinit__\u001b[1;34m()\u001b[0m\n",
      "\u001b[1;32mpandas\\_libs\\parsers.pyx\u001b[0m in \u001b[0;36mpandas._libs.parsers.TextReader._setup_parser_source\u001b[1;34m()\u001b[0m\n",
      "\u001b[1;31mFileNotFoundError\u001b[0m: [Errno 2] File F:\\Data\\Student.csv does not exist: 'F:\\\\Data\\\\Student.csv'"
     ]
    }
   ],
   "source": [
    "# to remove Unnamed:0 that displayed automatically in the above output windwo \n",
    "# use attribute \"index_col=0\" with read_csv() \n",
    "\n",
    "df =pd.read_csv(\"F:\\\\Data\\\\Student.csv\",index_col =0)\n",
    "print(df)"
   ]
  },
  {
   "cell_type": "code",
   "execution_count": null,
   "metadata": {
    "collapsed": true
   },
   "outputs": [],
   "source": [
    "# Practical Implementation-57   (page no.=1.64)\n",
    "# To create a duplicate file for Employee.csv containing Empid and Employee name.\n",
    "\n",
    "import pandas as pd\n",
    "df =pd.read_csv(\"F:\\\\Data\\\\Employee.csv\")\n",
    "df1 = df.to_csv(\"F:\\\\Data\\\\Emp.csv\",columns =[\"Empid\",\"Name\"])"
   ]
  },
  {
   "cell_type": "code",
   "execution_count": null,
   "metadata": {
    "collapsed": true
   },
   "outputs": [],
   "source": []
  }
 ],
 "metadata": {
  "kernelspec": {
   "display_name": "Python 3",
   "language": "python",
   "name": "python3"
  },
  "language_info": {
   "codemirror_mode": {
    "name": "ipython",
    "version": 3
   },
   "file_extension": ".py",
   "mimetype": "text/x-python",
   "name": "python",
   "nbconvert_exporter": "python",
   "pygments_lexer": "ipython3",
   "version": "3.8.3"
  }
 },
 "nbformat": 4,
 "nbformat_minor": 4
}
