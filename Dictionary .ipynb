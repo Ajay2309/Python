{
 "cells": [
  {
   "cell_type": "code",
   "execution_count": 1,
   "metadata": {
    "collapsed": true
   },
   "outputs": [
    {
     "name": "stdout",
     "output_type": "stream",
     "text": [
      "{1: 'one', 2: 'two', 3: 'three', 4: 'four'}\n"
     ]
    }
   ],
   "source": [
    "# Creating a Dictionary\n",
    "\n",
    "D1={1:'one',2:'two',3:'three',4:'four'}\n",
    "print(D1)"
   ]
  },
  {
   "cell_type": "code",
   "execution_count": 2,
   "metadata": {
    "collapsed": true
   },
   "outputs": [
    {
     "name": "stdout",
     "output_type": "stream",
     "text": [
      "{}\n"
     ]
    }
   ],
   "source": [
    "# Empty Dictionay\n",
    "\n",
    "d1={}\n",
    "print(d1)"
   ]
  },
  {
   "cell_type": "code",
   "execution_count": 4,
   "metadata": {
    "collapsed": true
   },
   "outputs": [
    {
     "name": "stdout",
     "output_type": "stream",
     "text": [
      "{1: 'one', 2: 'two', 3: 'three'}\n"
     ]
    }
   ],
   "source": [
    "# Creating Dictionary\n",
    "\n",
    "D={}\n",
    "D[1]='one'\n",
    "D[2]='two'\n",
    "D[3]='three'\n",
    "print(D)"
   ]
  },
  {
   "cell_type": "code",
   "execution_count": 8,
   "metadata": {
    "collapsed": true
   },
   "outputs": [
    {
     "name": "stdout",
     "output_type": "stream",
     "text": [
      "Ajay\n",
      "dict1['Name']: 17\n"
     ]
    }
   ],
   "source": [
    "# Accessing Elements in a Dictionary\n",
    "\n",
    "dict1={'Name':'Ajay','Age':17,'Class':'XI'}\n",
    "print(dict1['Name'])\n",
    "print(\"dict1['Name']:\",dict1['Age'])"
   ]
  },
  {
   "cell_type": "code",
   "execution_count": 12,
   "metadata": {
    "collapsed": true
   },
   "outputs": [
    {
     "name": "stdout",
     "output_type": "stream",
     "text": [
      "1 : one\n",
      "2 : two\n",
      "3 : three\n",
      "4 : four\n"
     ]
    }
   ],
   "source": [
    "# Traversing a Dictionary\n",
    "\n",
    "d={1:'one',2:'two',3:'three',4:'four'}\n",
    "for i in d:\n",
    "    print(i,\":\",d[i])"
   ]
  },
  {
   "cell_type": "code",
   "execution_count": 13,
   "metadata": {
    "collapsed": true
   },
   "outputs": [
    {
     "name": "stdout",
     "output_type": "stream",
     "text": [
      "{1: 'one', 2: 'two', 3: 'three', 4: 'four', 5: 'five'}\n"
     ]
    }
   ],
   "source": [
    "# Appending values in dictionary\n",
    "\n",
    "d1={1:'one',2:'two',3:'three',4:'four'}\n",
    "d1[5]='five'\n",
    "print(d1)"
   ]
  },
  {
   "cell_type": "code",
   "execution_count": 16,
   "metadata": {
    "collapsed": true
   },
   "outputs": [
    {
     "name": "stdout",
     "output_type": "stream",
     "text": [
      "{1: 'one', 2: 'two', 3: 'three', 4: 'four', 5: 'five', 6: 'six', 7: 'seven'}\n"
     ]
    }
   ],
   "source": [
    "# Merging Dictionary\n",
    "\n",
    "dict1={1:'one',2:'two',3:'three',4:'four'}\n",
    "dict2={5:'five',6:'six',7:'seven'}\n",
    "dict1.update(dict2)\n",
    "print(dict1)"
   ]
  },
  {
   "cell_type": "code",
   "execution_count": 17,
   "metadata": {
    "collapsed": true
   },
   "outputs": [
    {
     "name": "stdout",
     "output_type": "stream",
     "text": [
      "{1: 'one', 2: 'two', 4: 'four'}\n"
     ]
    }
   ],
   "source": [
    "# Del\n",
    "\n",
    "count={1:'one',2:'two',3:'three',4:'four'}\n",
    "del count[3]\n",
    "print(count)"
   ]
  },
  {
   "cell_type": "code",
   "execution_count": 18,
   "metadata": {
    "collapsed": true
   },
   "outputs": [
    {
     "name": "stdout",
     "output_type": "stream",
     "text": [
      "three\n",
      "{1: 'one', 2: 'two', 4: 'four'}\n"
     ]
    }
   ],
   "source": [
    "# Pop\n",
    "\n",
    "A={1:'one',2:'two',3:'three',4:'four'}\n",
    "b=A.pop(3)\n",
    "print(b)\n",
    "print(A)"
   ]
  },
  {
   "cell_type": "code",
   "execution_count": 19,
   "metadata": {
    "collapsed": true
   },
   "outputs": [
    {
     "name": "stdout",
     "output_type": "stream",
     "text": [
      "True\n",
      "False\n",
      "True\n",
      "False\n"
     ]
    }
   ],
   "source": [
    "# In and Not in Operator\n",
    "\n",
    "D={1:'one',2:'two',3:'three',4:'four'}\n",
    "print(3 in D)\n",
    "print(6 in D)\n",
    "print(6 not in D)\n",
    "print(4 not in D)"
   ]
  },
  {
   "cell_type": "code",
   "execution_count": 20,
   "metadata": {
    "collapsed": true
   },
   "outputs": [
    {
     "name": "stdout",
     "output_type": "stream",
     "text": [
      "{}\n"
     ]
    }
   ],
   "source": [
    "# Clear Function\n",
    "\n",
    "D1={1:'one',2:'two',3:'three',4:'four'}\n",
    "D1.clear()\n",
    "print(D1)"
   ]
  },
  {
   "cell_type": "code",
   "execution_count": 24,
   "metadata": {
    "collapsed": true
   },
   "outputs": [
    {
     "name": "stdout",
     "output_type": "stream",
     "text": [
      "wednesday\n",
      "tuesday\n",
      "monday\n",
      "None\n"
     ]
    }
   ],
   "source": [
    "# Get Method\n",
    "\n",
    "Dict1={'mon':'monday','tue':'tuesday','wed':'wednesday','thu':'thursday'}\n",
    "print(Dict1.get('wed'))\n",
    "print(Dict1.get('tue'))\n",
    "print(Dict1.get('mon'))\n",
    "print(Dict1.get('fri'))          # it wiil take by default \"None\""
   ]
  },
  {
   "cell_type": "code",
   "execution_count": 27,
   "metadata": {
    "collapsed": true
   },
   "outputs": [
    {
     "name": "stdout",
     "output_type": "stream",
     "text": [
      "{1: 'one', 2: 'two', 3: 'three', 4: 'four'}\n",
      "\n",
      "\n",
      "dict_items([(1, 'one'), (2, 'two'), (3, 'three'), (4, 'four')])\n"
     ]
    }
   ],
   "source": [
    "# Items\n",
    "\n",
    "dict1={1:'one',2:'two',3:'three',4:'four'}\n",
    "print(dict1)\n",
    "print('\\n')\n",
    "print(dict1.items())"
   ]
  },
  {
   "cell_type": "code",
   "execution_count": 28,
   "metadata": {
    "collapsed": true
   },
   "outputs": [
    {
     "name": "stdout",
     "output_type": "stream",
     "text": [
      "dict_keys([1, 2, 3, 4])\n"
     ]
    }
   ],
   "source": [
    "# Key\n",
    "\n",
    "D={1:'one',2:'two',3:'three',4:'four'}\n",
    "print(D.keys())"
   ]
  },
  {
   "cell_type": "code",
   "execution_count": 29,
   "metadata": {
    "collapsed": true
   },
   "outputs": [
    {
     "name": "stdout",
     "output_type": "stream",
     "text": [
      "dict_values(['one', 'two', 'three', 'four'])\n"
     ]
    }
   ],
   "source": [
    "# Values\n",
    "\n",
    "d={1:'one',2:'two',3:'three',4:'four'}\n",
    "print(d.values())"
   ]
  },
  {
   "cell_type": "code",
   "execution_count": 30,
   "metadata": {
    "collapsed": true
   },
   "outputs": [],
   "source": [
    "# now on words i am going to starts practice of dictionary"
   ]
  },
  {
   "cell_type": "code",
   "execution_count": 31,
   "metadata": {
    "collapsed": true
   },
   "outputs": [
    {
     "name": "stdout",
     "output_type": "stream",
     "text": [
      "Enter the number of Elements: 5\n",
      "Enter key: 1\n",
      "Enter value: 10\n",
      "Enter key: 2\n",
      "Enter value: 20\n",
      "Enter key: 3\n",
      "Enter value: 30\n",
      "Enter key: 4\n",
      "Enter value: 40\n",
      "Enter key: 5\n",
      "Enter value: 50\n",
      "{'1': '10', '2': '20', '3': '30', '4': '40', '5': '50'}\n"
     ]
    }
   ],
   "source": [
    "# user defined dictionary\n",
    "\n",
    "dict1={}\n",
    "n=int(input(\"Enter the number of Elements: \"))\n",
    "for i in range(n):\n",
    "    key=input(\"Enter key: \")\n",
    "    value=input(\"Enter value: \")\n",
    "    dict1.update({key:value})\n",
    "print(dict1)"
   ]
  },
  {
   "cell_type": "code",
   "execution_count": 1,
   "metadata": {
    "collapsed": true
   },
   "outputs": [
    {
     "name": "stdout",
     "output_type": "stream",
     "text": [
      "Enter the number of element you want: 5\n",
      "Enter key: 1\n",
      "Enter value: one\n",
      "Enter key: 2\n",
      "Enter value: two\n",
      "Enter key: 3\n",
      "Enter value: three\n",
      "Enter key: 4\n",
      "Enter value: four\n",
      "Enter key: 5\n",
      "Enter value: five\n",
      "{'1': 'one', '2': 'two', '3': 'three', '4': 'four', '5': 'five'}\n"
     ]
    }
   ],
   "source": [
    "D1={}\n",
    "num=int(input(\"Enter the number of element you want: \"))\n",
    "for i in range(num):\n",
    "    k=input('Enter key: ')\n",
    "    v=input('Enter value: ')\n",
    "    D1.update({k:v})\n",
    "print(D1)"
   ]
  },
  {
   "cell_type": "code",
   "execution_count": null,
   "metadata": {
    "collapsed": true
   },
   "outputs": [],
   "source": []
  }
 ],
 "metadata": {
  "kernelspec": {
   "display_name": "Python 3",
   "language": "python",
   "name": "python3"
  },
  "language_info": {
   "codemirror_mode": {
    "name": "ipython",
    "version": 3
   },
   "file_extension": ".py",
   "mimetype": "text/x-python",
   "name": "python",
   "nbconvert_exporter": "python",
   "pygments_lexer": "ipython3",
   "version": "3.8.3"
  }
 },
 "nbformat": 4,
 "nbformat_minor": 4
}
